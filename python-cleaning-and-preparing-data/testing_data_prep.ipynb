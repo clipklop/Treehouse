{
 "nbformat": 4,
 "nbformat_minor": 2,
 "metadata": {
  "language_info": {
   "name": "python",
   "codemirror_mode": {
    "name": "ipython",
    "version": 3
   },
   "version": "3.8.1-final"
  },
  "orig_nbformat": 2,
  "file_extension": ".py",
  "mimetype": "text/x-python",
  "name": "python",
  "npconvert_exporter": "python",
  "pygments_lexer": "ipython3",
  "version": 3,
  "kernelspec": {
   "name": "python38164bit7e7edf2894d14d708e1bb3b5f07d70fe",
   "display_name": "Python 3.8.1 64-bit"
  }
 },
 "cells": [
  {
   "cell_type": "markdown",
   "metadata": {},
   "source": [
    "#### let's what we've got here..."
   ]
  },
  {
   "cell_type": "code",
   "execution_count": 1,
   "metadata": {},
   "outputs": [],
   "source": [
    "import pandas as pd\n",
    "import numpy as np\n",
    "import itertools\n",
    "import os"
   ]
  },
  {
   "cell_type": "code",
   "execution_count": 3,
   "metadata": {},
   "outputs": [],
   "source": [
    "demo = pd.read_csv('Demographics.csv')\n",
    "bmx = pd.read_csv('BodyMeasures.csv')\n",
    "ocq = pd.read_csv('Occupation.csv')"
   ]
  },
  {
   "cell_type": "code",
   "execution_count": 6,
   "metadata": {},
   "outputs": [
    {
     "name": "stdout",
     "output_type": "stream",
     "text": "(9760, 144) (9278, 38) (7216, 36)\n"
    }
   ],
   "source": [
    "print(demo.shape, bmx.shape, ocq.shape)"
   ]
  },
  {
   "cell_type": "code",
   "execution_count": 7,
   "metadata": {},
   "outputs": [],
   "source": [
    "# no errors here coz values are the same as it should be\n",
    "np.testing.assert_array_equal(demo.shape, (9760, 144))\n",
    "np.testing.assert_array_equal(bmx.shape, (9278, 38))\n",
    "np.testing.assert_array_equal(ocq.shape, (7216, 36))\n"
   ]
  },
  {
   "cell_type": "code",
   "execution_count": 8,
   "metadata": {},
   "outputs": [],
   "source": [
    "# dataset would have fewer rows coz inner join drops all participants with missing physical and occupaton survey\n",
    "dataset = pd.merge(demo, bmx, on='SEQN', how='inner')\n",
    "dataset = pd.merge(dataset, ocq, on='SEQN', how='inner')\n"
   ]
  },
  {
   "cell_type": "code",
   "execution_count": 19,
   "metadata": {},
   "outputs": [],
   "source": [
    "# checking if sum of all columns are equal to columns of our dataset\n",
    "# -2 means we're substracting the repeated and joined SEQN colum\n",
    "total_cols = demo.shape[1] + bmx.shape[1] + ocq.shape[1] - 2"
   ]
  },
  {
   "cell_type": "code",
   "execution_count": 22,
   "metadata": {},
   "outputs": [
    {
     "name": "stdout",
     "output_type": "stream",
     "text": "216 216\n"
    }
   ],
   "source": [
    "print(dataset.shape[1], total_cols)\n"
   ]
  },
  {
   "cell_type": "code",
   "execution_count": 18,
   "metadata": {},
   "outputs": [],
   "source": [
    "np.testing.assert_equal(dataset.shape[1], total_cols)"
   ]
  },
  {
   "cell_type": "code",
   "execution_count": 23,
   "metadata": {},
   "outputs": [],
   "source": [
    "# check if new dataset has fewer rows than original demographic dataset\n",
    "np.testing.assert_array_less(dataset.shape[0], demo.shape[0])"
   ]
  },
  {
   "cell_type": "code",
   "execution_count": 29,
   "metadata": {},
   "outputs": [],
   "source": [
    "# remove all white spaces at once rather than specifying individual columns\n",
    "# we need try/except to save ourself from an error from calling 'strip' method on numeric\n",
    "for col in demo.columns:\n",
    "    try:\n",
    "        demo.loc[:, col] = demo.loc[:, col].str.strip()\n",
    "    except AttributeError:\n",
    "        pass"
   ]
  },
  {
   "cell_type": "markdown",
   "metadata": {},
   "source": [
    "#### speed up checks for valid data through automation\n",
    "* but we still need to choose the acceptable values ourselves\n",
    "*  and then can automate the checking and replacing\n",
    "* one of the options is to create a dict with 'columns' as keys and entryes as values\n",
    "* for categorical data use DataFrames 'is in' method"
   ]
  },
  {
   "cell_type": "code",
   "execution_count": 31,
   "metadata": {},
   "outputs": [],
   "source": [
    "valid_codes = {\n",
    "    'DMDBORN': [1, 2, 3, 7, 9],\n",
    "    'DMDCITZN': [1, 2, 7, 9],\n",
    "}"
   ]
  },
  {
   "cell_type": "code",
   "execution_count": 37,
   "metadata": {},
   "outputs": [],
   "source": [
    "for col in valid_codes.keys():\n",
    "    good_indexes = demo[col].isin(valid_codes[col])\n",
    "    demo.loc[~good_indexes, col] = np.nan\n",
    "    # print(demo.loc[~good_indexes, col])"
   ]
  },
  {
   "cell_type": "code",
   "execution_count": 43,
   "metadata": {},
   "outputs": [],
   "source": [
    "# for continuous values we can use similar methods\n",
    "# but specify a valid range instead of individual values\n",
    "valid_range = {\n",
    "    'BMXWT': [0, 635],\n",
    "    'BMXHT': [81.8, 201.3],\n",
    "}"
   ]
  },
  {
   "cell_type": "code",
   "execution_count": 51,
   "metadata": {},
   "outputs": [],
   "source": [
    "for col in valid_range.keys():\n",
    "    good_indexes = (bmx[col] >= valid_range[col][0]) & (bmx[col] <= valid_range[col][1])\n",
    "    bmx.loc[~good_indexes, col] = np.nan"
   ]
  },
  {
   "cell_type": "markdown",
   "metadata": {},
   "source": [
    "#### automatically find any rows or columns with too much missing data\n",
    "#### set max treshold percent to list all columns with more than 30% of the data missing\n"
   ]
  },
  {
   "cell_type": "code",
   "execution_count": 56,
   "metadata": {},
   "outputs": [],
   "source": [
    "max_missing_perc = 30\n",
    "valid_entries = demo.count()\n",
    "total_rows = len(demo)\n",
    "missing_percentage = (total_rows - valid_entries) / total_rows * 100\n"
   ]
  },
  {
   "cell_type": "code",
   "execution_count": 57,
   "metadata": {},
   "outputs": [
    {
     "name": "stdout",
     "output_type": "stream",
     "text": "Index(['DMQMILIT', 'DMDBORN', 'DMDCITZN', 'DMDYRSUS', 'DMDEDUC3', 'DMDEDUC2',\n       'DMDSCHOL', 'DMDMARTL', 'RIDEXPRG', 'RIDPREG', 'DMDHSEDU', 'DMAETHN',\n       'DMARACE'],\n      dtype='object')\n"
    }
   ],
   "source": [
    "missing_bool = missing_percentage > max_missing_perc\n",
    "print(demo.columns[missing_bool])"
   ]
  },
  {
   "cell_type": "code",
   "execution_count": null,
   "metadata": {},
   "outputs": [],
   "source": []
  }
 ]
}