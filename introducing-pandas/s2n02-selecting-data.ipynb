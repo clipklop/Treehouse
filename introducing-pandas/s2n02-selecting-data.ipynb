{
 "cells": [
  {
   "cell_type": "markdown",
   "metadata": {},
   "source": [
    "# Selecting Data\n",
    "\n",
    "A common need is to grab a subset of records that meet a certain criteria. You can do this by indexing the `DataFrame` much like you've seen done with a `NumPy.ndarray`."
   ]
  },
  {
   "cell_type": "code",
   "execution_count": 17,
   "metadata": {},
   "outputs": [
    {
     "data": {
      "text/html": "<div>\n<style scoped>\n    .dataframe tbody tr th:only-of-type {\n        vertical-align: middle;\n    }\n\n    .dataframe tbody tr th {\n        vertical-align: top;\n    }\n\n    .dataframe thead th {\n        text-align: right;\n    }\n</style>\n<table border=\"1\" class=\"dataframe\">\n  <thead>\n    <tr style=\"text-align: right;\">\n      <th></th>\n      <th>first_name</th>\n      <th>last_name</th>\n      <th>email</th>\n      <th>email_verified</th>\n      <th>signup_date</th>\n      <th>referral_count</th>\n      <th>balance</th>\n    </tr>\n  </thead>\n  <tbody>\n    <tr>\n      <th>aaron</th>\n      <td>Aaron</td>\n      <td>Davis</td>\n      <td>aaron6348@gmail.com</td>\n      <td>True</td>\n      <td>2018-08-31</td>\n      <td>6</td>\n      <td>18.14</td>\n    </tr>\n    <tr>\n      <th>acook</th>\n      <td>Anthony</td>\n      <td>Cook</td>\n      <td>cook@gmail.com</td>\n      <td>True</td>\n      <td>2018-05-12</td>\n      <td>2</td>\n      <td>55.45</td>\n    </tr>\n    <tr>\n      <th>adam.saunders</th>\n      <td>Adam</td>\n      <td>Saunders</td>\n      <td>adam@gmail.com</td>\n      <td>False</td>\n      <td>2018-05-29</td>\n      <td>3</td>\n      <td>72.12</td>\n    </tr>\n    <tr>\n      <th>adrian</th>\n      <td>Adrian</td>\n      <td>Fang</td>\n      <td>adrian.fang@teamtreehouse.com</td>\n      <td>True</td>\n      <td>2018-04-28</td>\n      <td>3</td>\n      <td>30.01</td>\n    </tr>\n    <tr>\n      <th>adrian.blair</th>\n      <td>Adrian</td>\n      <td>Blair</td>\n      <td>adrian9335@gmail.com</td>\n      <td>True</td>\n      <td>2018-06-16</td>\n      <td>7</td>\n      <td>25.85</td>\n    </tr>\n  </tbody>\n</table>\n</div>",
      "text/plain": "              first_name last_name                          email  \\\naaron              Aaron     Davis            aaron6348@gmail.com   \nacook            Anthony      Cook                 cook@gmail.com   \nadam.saunders       Adam  Saunders                 adam@gmail.com   \nadrian            Adrian      Fang  adrian.fang@teamtreehouse.com   \nadrian.blair      Adrian     Blair           adrian9335@gmail.com   \n\n               email_verified signup_date  referral_count  balance  \naaron                    True  2018-08-31               6    18.14  \nacook                    True  2018-05-12               2    55.45  \nadam.saunders           False  2018-05-29               3    72.12  \nadrian                   True  2018-04-28               3    30.01  \nadrian.blair             True  2018-06-16               7    25.85  "
     },
     "execution_count": 17,
     "metadata": {},
     "output_type": "execute_result"
    }
   ],
   "source": [
    "import os\n",
    "import pandas as pd\n",
    "\n",
    "users = pd.read_csv(os.path.join('data', 'users.csv'), index_col=0)\n",
    "# Pop out a quick sanity check\n",
    "len(users)\n",
    "users.head()"
   ]
  },
  {
   "cell_type": "markdown",
   "metadata": {},
   "source": [
    "CashBox uses a referral system, everyone you refer will earn you $5 credit. Let's see if we can find everyone who **has not** yet taken advantage of that deal. The number of referrals a user has made is defined in the **`referral_count`** column."
   ]
  },
  {
   "cell_type": "code",
   "execution_count": 32,
   "metadata": {},
   "outputs": [
    {
     "data": {
      "text/plain": "26.83"
     },
     "execution_count": 32,
     "metadata": {},
     "output_type": "execute_result"
    }
   ],
   "source": [
    "import math\n",
    "heights = [120, 130, 180, 120, 100]\n",
    "mean1 = sum(heights) / len(heights)\n",
    "mean1\n",
    "squared_differences = [(x - mean1)**2 for x in heights]\n",
    "variance = sum(squared_differences) / len(heights)\n",
    "std = round(math.sqrt(variance), 2)\n",
    "variance\n",
    "std\n"
   ]
  },
  {
   "cell_type": "code",
   "execution_count": 10,
   "metadata": {},
   "outputs": [
    {
     "data": {
      "text/plain": "aaron            False\nacook            False\nadam.saunders    False\nadrian           False\nadrian.blair     False\nName: referral_count, dtype: bool"
     },
     "execution_count": 10,
     "metadata": {},
     "output_type": "execute_result"
    }
   ],
   "source": [
    "# This vectorized comparison returns a new `Series` ... \n",
    "#   We are naming it so we can use it later.\n",
    "no_referrals_index = users['referral_count'] < 1\n",
    "# See how the boolean `Series` returned includes all rows from the `DataFrame`.\n",
    "#  The value is the result of each comparison\n",
    "no_referrals_index.head()"
   ]
  },
  {
   "cell_type": "markdown",
   "metadata": {},
   "source": [
    "Using the boolean `Series` we just created, **`no_referrals_index`**, we can retrieve all rows where that comparison was True."
   ]
  },
  {
   "cell_type": "code",
   "execution_count": 11,
   "metadata": {},
   "outputs": [
    {
     "data": {
      "text/html": "<div>\n<style scoped>\n    .dataframe tbody tr th:only-of-type {\n        vertical-align: middle;\n    }\n\n    .dataframe tbody tr th {\n        vertical-align: top;\n    }\n\n    .dataframe thead th {\n        text-align: right;\n    }\n</style>\n<table border=\"1\" class=\"dataframe\">\n  <thead>\n    <tr style=\"text-align: right;\">\n      <th></th>\n      <th>first_name</th>\n      <th>last_name</th>\n      <th>email</th>\n      <th>email_verified</th>\n      <th>signup_date</th>\n      <th>referral_count</th>\n      <th>balance</th>\n    </tr>\n  </thead>\n  <tbody>\n    <tr>\n      <th>alan9443</th>\n      <td>Alan</td>\n      <td>Pope</td>\n      <td>pope@hotmail.com</td>\n      <td>True</td>\n      <td>2018-04-17</td>\n      <td>0</td>\n      <td>56.09</td>\n    </tr>\n    <tr>\n      <th>andrew.alvarez</th>\n      <td>Andrew</td>\n      <td>Alvarez</td>\n      <td>aalvarez@hotmail.com</td>\n      <td>False</td>\n      <td>2018-08-01</td>\n      <td>0</td>\n      <td>81.66</td>\n    </tr>\n    <tr>\n      <th>boyer7005</th>\n      <td>Sara</td>\n      <td>Boyer</td>\n      <td>boyer8636@gmail.com</td>\n      <td>True</td>\n      <td>2018-07-31</td>\n      <td>0</td>\n      <td>91.41</td>\n    </tr>\n    <tr>\n      <th>brandon.gilbert</th>\n      <td>Brandon</td>\n      <td>Gilbert</td>\n      <td>brandon.gilbert@hotmail.com</td>\n      <td>True</td>\n      <td>2018-04-28</td>\n      <td>0</td>\n      <td>10.17</td>\n    </tr>\n    <tr>\n      <th>brooke2027</th>\n      <td>Brooke</td>\n      <td>NaN</td>\n      <td>brooke6938@gmail.com</td>\n      <td>False</td>\n      <td>2018-05-23</td>\n      <td>0</td>\n      <td>7.22</td>\n    </tr>\n  </tbody>\n</table>\n</div>",
      "text/plain": "                first_name last_name                        email  \\\nalan9443              Alan      Pope             pope@hotmail.com   \nandrew.alvarez      Andrew   Alvarez         aalvarez@hotmail.com   \nboyer7005             Sara     Boyer          boyer8636@gmail.com   \nbrandon.gilbert    Brandon   Gilbert  brandon.gilbert@hotmail.com   \nbrooke2027          Brooke       NaN         brooke6938@gmail.com   \n\n                 email_verified signup_date  referral_count  balance  \nalan9443                   True  2018-04-17               0    56.09  \nandrew.alvarez            False  2018-08-01               0    81.66  \nboyer7005                  True  2018-07-31               0    91.41  \nbrandon.gilbert            True  2018-04-28               0    10.17  \nbrooke2027                False  2018-05-23               0     7.22  "
     },
     "execution_count": 11,
     "metadata": {},
     "output_type": "execute_result"
    }
   ],
   "source": [
    "users[no_referrals_index].head()"
   ]
  },
  {
   "cell_type": "markdown",
   "metadata": {},
   "source": [
    "## Inversed index\n",
    "A handy shortcut is to prefix the index with a `~` (tilde). This returns the inverse of the boolean `Series`. While I wish that the `~` was called \"the opposite day\" operator, it is in fact called `bitwise not` operator."
   ]
  },
  {
   "cell_type": "code",
   "execution_count": 12,
   "metadata": {},
   "outputs": [
    {
     "data": {
      "text/plain": "aaron            True\nacook            True\nadam.saunders    True\nadrian           True\nadrian.blair     True\nName: referral_count, dtype: bool"
     },
     "execution_count": 12,
     "metadata": {},
     "output_type": "execute_result"
    }
   ],
   "source": [
    "# Careful, double negative here. We don't need no education.\n",
    "~no_referrals_index.head()"
   ]
  },
  {
   "cell_type": "code",
   "execution_count": 13,
   "metadata": {},
   "outputs": [
    {
     "data": {
      "text/html": "<div>\n<style scoped>\n    .dataframe tbody tr th:only-of-type {\n        vertical-align: middle;\n    }\n\n    .dataframe tbody tr th {\n        vertical-align: top;\n    }\n\n    .dataframe thead th {\n        text-align: right;\n    }\n</style>\n<table border=\"1\" class=\"dataframe\">\n  <thead>\n    <tr style=\"text-align: right;\">\n      <th></th>\n      <th>first_name</th>\n      <th>last_name</th>\n      <th>email</th>\n      <th>email_verified</th>\n      <th>signup_date</th>\n      <th>referral_count</th>\n      <th>balance</th>\n    </tr>\n  </thead>\n  <tbody>\n    <tr>\n      <th>aaron</th>\n      <td>Aaron</td>\n      <td>Davis</td>\n      <td>aaron6348@gmail.com</td>\n      <td>True</td>\n      <td>2018-08-31</td>\n      <td>6</td>\n      <td>18.14</td>\n    </tr>\n    <tr>\n      <th>acook</th>\n      <td>Anthony</td>\n      <td>Cook</td>\n      <td>cook@gmail.com</td>\n      <td>True</td>\n      <td>2018-05-12</td>\n      <td>2</td>\n      <td>55.45</td>\n    </tr>\n    <tr>\n      <th>adam.saunders</th>\n      <td>Adam</td>\n      <td>Saunders</td>\n      <td>adam@gmail.com</td>\n      <td>False</td>\n      <td>2018-05-29</td>\n      <td>3</td>\n      <td>72.12</td>\n    </tr>\n    <tr>\n      <th>adrian</th>\n      <td>Adrian</td>\n      <td>Fang</td>\n      <td>adrian.fang@teamtreehouse.com</td>\n      <td>True</td>\n      <td>2018-04-28</td>\n      <td>3</td>\n      <td>30.01</td>\n    </tr>\n    <tr>\n      <th>adrian.blair</th>\n      <td>Adrian</td>\n      <td>Blair</td>\n      <td>adrian9335@gmail.com</td>\n      <td>True</td>\n      <td>2018-06-16</td>\n      <td>7</td>\n      <td>25.85</td>\n    </tr>\n  </tbody>\n</table>\n</div>",
      "text/plain": "              first_name last_name                          email  \\\naaron              Aaron     Davis            aaron6348@gmail.com   \nacook            Anthony      Cook                 cook@gmail.com   \nadam.saunders       Adam  Saunders                 adam@gmail.com   \nadrian            Adrian      Fang  adrian.fang@teamtreehouse.com   \nadrian.blair      Adrian     Blair           adrian9335@gmail.com   \n\n               email_verified signup_date  referral_count  balance  \naaron                    True  2018-08-31               6    18.14  \nacook                    True  2018-05-12               2    55.45  \nadam.saunders           False  2018-05-29               3    72.12  \nadrian                   True  2018-04-28               3    30.01  \nadrian.blair             True  2018-06-16               7    25.85  "
     },
     "execution_count": 13,
     "metadata": {},
     "output_type": "execute_result"
    }
   ],
   "source": [
    "# Use the inverse of the index to find where referral values DO NOT equal zero\n",
    "users[~no_referrals_index].head()"
   ]
  },
  {
   "cell_type": "markdown",
   "metadata": {},
   "source": [
    "## In `loc`\n",
    "Boolean `Series` as an index may also be used as an index the `DataFrame.loc` object.  "
   ]
  },
  {
   "cell_type": "code",
   "execution_count": 14,
   "metadata": {},
   "outputs": [
    {
     "data": {
      "text/html": "<div>\n<style scoped>\n    .dataframe tbody tr th:only-of-type {\n        vertical-align: middle;\n    }\n\n    .dataframe tbody tr th {\n        vertical-align: top;\n    }\n\n    .dataframe thead th {\n        text-align: right;\n    }\n</style>\n<table border=\"1\" class=\"dataframe\">\n  <thead>\n    <tr style=\"text-align: right;\">\n      <th></th>\n      <th>balance</th>\n      <th>email</th>\n    </tr>\n  </thead>\n  <tbody>\n    <tr>\n      <th>alan9443</th>\n      <td>56.09</td>\n      <td>pope@hotmail.com</td>\n    </tr>\n    <tr>\n      <th>andrew.alvarez</th>\n      <td>81.66</td>\n      <td>aalvarez@hotmail.com</td>\n    </tr>\n    <tr>\n      <th>boyer7005</th>\n      <td>91.41</td>\n      <td>boyer8636@gmail.com</td>\n    </tr>\n    <tr>\n      <th>brandon.gilbert</th>\n      <td>10.17</td>\n      <td>brandon.gilbert@hotmail.com</td>\n    </tr>\n    <tr>\n      <th>brooke2027</th>\n      <td>7.22</td>\n      <td>brooke6938@gmail.com</td>\n    </tr>\n  </tbody>\n</table>\n</div>",
      "text/plain": "                 balance                        email\nalan9443           56.09             pope@hotmail.com\nandrew.alvarez     81.66         aalvarez@hotmail.com\nboyer7005          91.41          boyer8636@gmail.com\nbrandon.gilbert    10.17  brandon.gilbert@hotmail.com\nbrooke2027          7.22         brooke6938@gmail.com"
     },
     "execution_count": 14,
     "metadata": {},
     "output_type": "execute_result"
    }
   ],
   "source": [
    "# Select rows where there are no referrals, and select only the following ordered columns\n",
    "users.loc[no_referrals_index, ['balance', 'email']].head()"
   ]
  },
  {
   "cell_type": "markdown",
   "metadata": {},
   "source": [
    "It is also possible to do the comparison inline, without storing the index in a variable."
   ]
  },
  {
   "cell_type": "code",
   "execution_count": 15,
   "metadata": {},
   "outputs": [
    {
     "data": {
      "text/html": "<div>\n<style scoped>\n    .dataframe tbody tr th:only-of-type {\n        vertical-align: middle;\n    }\n\n    .dataframe tbody tr th {\n        vertical-align: top;\n    }\n\n    .dataframe thead th {\n        text-align: right;\n    }\n</style>\n<table border=\"1\" class=\"dataframe\">\n  <thead>\n    <tr style=\"text-align: right;\">\n      <th></th>\n      <th>first_name</th>\n      <th>last_name</th>\n      <th>email</th>\n      <th>email_verified</th>\n      <th>signup_date</th>\n      <th>referral_count</th>\n      <th>balance</th>\n    </tr>\n  </thead>\n  <tbody>\n    <tr>\n      <th>alan9443</th>\n      <td>Alan</td>\n      <td>Pope</td>\n      <td>pope@hotmail.com</td>\n      <td>True</td>\n      <td>2018-04-17</td>\n      <td>0</td>\n      <td>56.09</td>\n    </tr>\n    <tr>\n      <th>andrew.alvarez</th>\n      <td>Andrew</td>\n      <td>Alvarez</td>\n      <td>aalvarez@hotmail.com</td>\n      <td>False</td>\n      <td>2018-08-01</td>\n      <td>0</td>\n      <td>81.66</td>\n    </tr>\n    <tr>\n      <th>boyer7005</th>\n      <td>Sara</td>\n      <td>Boyer</td>\n      <td>boyer8636@gmail.com</td>\n      <td>True</td>\n      <td>2018-07-31</td>\n      <td>0</td>\n      <td>91.41</td>\n    </tr>\n    <tr>\n      <th>brandon.gilbert</th>\n      <td>Brandon</td>\n      <td>Gilbert</td>\n      <td>brandon.gilbert@hotmail.com</td>\n      <td>True</td>\n      <td>2018-04-28</td>\n      <td>0</td>\n      <td>10.17</td>\n    </tr>\n    <tr>\n      <th>brooke2027</th>\n      <td>Brooke</td>\n      <td>NaN</td>\n      <td>brooke6938@gmail.com</td>\n      <td>False</td>\n      <td>2018-05-23</td>\n      <td>0</td>\n      <td>7.22</td>\n    </tr>\n  </tbody>\n</table>\n</div>",
      "text/plain": "                first_name last_name                        email  \\\nalan9443              Alan      Pope             pope@hotmail.com   \nandrew.alvarez      Andrew   Alvarez         aalvarez@hotmail.com   \nboyer7005             Sara     Boyer          boyer8636@gmail.com   \nbrandon.gilbert    Brandon   Gilbert  brandon.gilbert@hotmail.com   \nbrooke2027          Brooke       NaN         brooke6938@gmail.com   \n\n                 email_verified signup_date  referral_count  balance  \nalan9443                   True  2018-04-17               0    56.09  \nandrew.alvarez            False  2018-08-01               0    81.66  \nboyer7005                  True  2018-07-31               0    91.41  \nbrandon.gilbert            True  2018-04-28               0    10.17  \nbrooke2027                False  2018-05-23               0     7.22  "
     },
     "execution_count": 15,
     "metadata": {},
     "output_type": "execute_result"
    }
   ],
   "source": [
    "users[users['referral_count'] == 0].head()"
   ]
  },
  {
   "cell_type": "markdown",
   "metadata": {},
   "source": [
    "Just like a NumPy `ndarray`, it's possible for a boolean `Series` to be compared to another boolean `Series` using bitwise operators.\n",
    "\n",
    "Don't forget to surround your expressions with parenthesis to control the order of operations."
   ]
  },
  {
   "cell_type": "code",
   "execution_count": 16,
   "metadata": {},
   "outputs": [
    {
     "data": {
      "text/html": "<div>\n<style scoped>\n    .dataframe tbody tr th:only-of-type {\n        vertical-align: middle;\n    }\n\n    .dataframe tbody tr th {\n        vertical-align: top;\n    }\n\n    .dataframe thead th {\n        text-align: right;\n    }\n</style>\n<table border=\"1\" class=\"dataframe\">\n  <thead>\n    <tr style=\"text-align: right;\">\n      <th></th>\n      <th>first_name</th>\n      <th>last_name</th>\n      <th>email</th>\n      <th>email_verified</th>\n      <th>signup_date</th>\n      <th>referral_count</th>\n      <th>balance</th>\n    </tr>\n  </thead>\n  <tbody>\n    <tr>\n      <th>alan9443</th>\n      <td>Alan</td>\n      <td>Pope</td>\n      <td>pope@hotmail.com</td>\n      <td>True</td>\n      <td>2018-04-17</td>\n      <td>0</td>\n      <td>56.09</td>\n    </tr>\n    <tr>\n      <th>boyer7005</th>\n      <td>Sara</td>\n      <td>Boyer</td>\n      <td>boyer8636@gmail.com</td>\n      <td>True</td>\n      <td>2018-07-31</td>\n      <td>0</td>\n      <td>91.41</td>\n    </tr>\n    <tr>\n      <th>brandon.gilbert</th>\n      <td>Brandon</td>\n      <td>Gilbert</td>\n      <td>brandon.gilbert@hotmail.com</td>\n      <td>True</td>\n      <td>2018-04-28</td>\n      <td>0</td>\n      <td>10.17</td>\n    </tr>\n    <tr>\n      <th>bryant</th>\n      <td>Darlene</td>\n      <td>Bryant</td>\n      <td>dbryant@yahoo.com</td>\n      <td>True</td>\n      <td>2018-07-19</td>\n      <td>0</td>\n      <td>36.91</td>\n    </tr>\n    <tr>\n      <th>calvin.perez</th>\n      <td>Calvin</td>\n      <td>Perez</td>\n      <td>cperez@gmail.com</td>\n      <td>True</td>\n      <td>2018-02-17</td>\n      <td>0</td>\n      <td>13.01</td>\n    </tr>\n  </tbody>\n</table>\n</div>",
      "text/plain": "                first_name last_name                        email  \\\nalan9443              Alan      Pope             pope@hotmail.com   \nboyer7005             Sara     Boyer          boyer8636@gmail.com   \nbrandon.gilbert    Brandon   Gilbert  brandon.gilbert@hotmail.com   \nbryant             Darlene    Bryant            dbryant@yahoo.com   \ncalvin.perez        Calvin     Perez             cperez@gmail.com   \n\n                 email_verified signup_date  referral_count  balance  \nalan9443                   True  2018-04-17               0    56.09  \nboyer7005                  True  2018-07-31               0    91.41  \nbrandon.gilbert            True  2018-04-28               0    10.17  \nbryant                     True  2018-07-19               0    36.91  \ncalvin.perez               True  2018-02-17               0    13.01  "
     },
     "execution_count": 16,
     "metadata": {},
     "output_type": "execute_result"
    }
   ],
   "source": [
    "# Select all users where they haven't made a referral AND their email has been verified\n",
    "users[(users['referral_count'] == 0) & (users['email_verified'] == True)].head()"
   ]
  }
 ],
 "metadata": {
  "kernelspec": {
   "display_name": "Python 3.8.1 64-bit",
   "language": "python",
   "name": "python38164bit7e7edf2894d14d708e1bb3b5f07d70fe"
  },
  "language_info": {
   "codemirror_mode": {
    "name": "ipython",
    "version": 3
   },
   "file_extension": ".py",
   "mimetype": "text/x-python",
   "name": "python",
   "nbconvert_exporter": "python",
   "pygments_lexer": "ipython3",
   "version": "3.8.1-final"
  }
 },
 "nbformat": 4,
 "nbformat_minor": 2
}