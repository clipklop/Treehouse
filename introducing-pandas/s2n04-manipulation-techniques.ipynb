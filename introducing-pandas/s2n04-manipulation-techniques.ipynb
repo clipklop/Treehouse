{
 "cells": [
  {
   "cell_type": "markdown",
   "metadata": {},
   "source": [
    "# Manipulation Techniques\n",
    "\n",
    "There are lots of ways to change the shape and data in your `DataFrame`.\n",
    "\n",
    "Let's explore the popular options."
   ]
  },
  {
   "source": [
    "# Setup\n",
    "from datetime import datetime\n",
    "import os\n",
    "\n",
    "import numpy as np\n",
    "import pandas as pd\n",
    "\n",
    "users = pd.read_csv(os.path.join('data', 'users.csv'), index_col=0)\n",
    "transactions = pd.read_csv(os.path.join('data', 'transactions.csv'), index_col=0)\n",
    "# Pop out a quick sanity check\n",
    "(users.shape, transactions.shape)"
   ],
   "cell_type": "code",
   "outputs": [
    {
     "output_type": "execute_result",
     "data": {
      "text/plain": "((475, 7), (998, 4))"
     },
     "metadata": {},
     "execution_count": 74
    }
   ],
   "metadata": {},
   "execution_count": 74
  },
  {
   "cell_type": "markdown",
   "metadata": {},
   "source": [
    "## Assigning values\n",
    "Let's assume that we work on the CashBox Customer Support team and the user with name of **`Adrian Fang`** called and told us about an error in his balance. It should be **`$35`**, but is currently **`$30.01`**\n",
    "\n",
    "### With Chaining (don't do this)\n",
    "Let's walk ourselves right into a common problem..."
   ]
  },
  {
   "source": [
    "# First let's make sure there is only one Adrian Fang\n",
    "users[(users.first_name == \"Adrian\") & (users.last_name == \"Fang\")]\n",
    "users.loc[(users.first_name == \"Adrian\") & (users.last_name == \"Fang\"), 'email_verified' ] =True\n",
    "users.loc[(users.first_name == \"Adrian\") & (users.last_name == \"Fang\")]"
   ],
   "cell_type": "code",
   "outputs": [
    {
     "output_type": "execute_result",
     "data": {
      "text/plain": "       first_name last_name                          email  email_verified  \\\nadrian     Adrian      Fang  adrian.fang@teamtreehouse.com            True   \n\n       signup_date  referral_count  balance  \nadrian  2018-04-28               3    30.01  ",
      "text/html": "<div>\n<style scoped>\n    .dataframe tbody tr th:only-of-type {\n        vertical-align: middle;\n    }\n\n    .dataframe tbody tr th {\n        vertical-align: top;\n    }\n\n    .dataframe thead th {\n        text-align: right;\n    }\n</style>\n<table border=\"1\" class=\"dataframe\">\n  <thead>\n    <tr style=\"text-align: right;\">\n      <th></th>\n      <th>first_name</th>\n      <th>last_name</th>\n      <th>email</th>\n      <th>email_verified</th>\n      <th>signup_date</th>\n      <th>referral_count</th>\n      <th>balance</th>\n    </tr>\n  </thead>\n  <tbody>\n    <tr>\n      <th>adrian</th>\n      <td>Adrian</td>\n      <td>Fang</td>\n      <td>adrian.fang@teamtreehouse.com</td>\n      <td>True</td>\n      <td>2018-04-28</td>\n      <td>3</td>\n      <td>30.01</td>\n    </tr>\n  </tbody>\n</table>\n</div>"
     },
     "metadata": {},
     "execution_count": 75
    }
   ],
   "metadata": {},
   "execution_count": 75
  },
  {
   "cell_type": "markdown",
   "metadata": {},
   "source": [
    "> [Yo, Adrian! I did it!](https://www.youtube.com/watch?v=_61IZp_RNYg)\n",
    "\n",
    "Our goal is to update the balance, so the common thought process here, usually leads for us to just chain off the returned `DataFrame` like so..."
   ]
  },
  {
   "source": [
    "users[(users.first_name == \"Adrian\") & (users.last_name == \"Fang\")]['balance']"
   ],
   "cell_type": "code",
   "outputs": [
    {
     "output_type": "execute_result",
     "data": {
      "text/plain": "adrian    30.01\nName: balance, dtype: float64"
     },
     "metadata": {},
     "execution_count": 76
    }
   ],
   "metadata": {},
   "execution_count": 76
  },
  {
   "cell_type": "markdown",
   "metadata": {},
   "source": [
    "... and since that appears to work, maybe we'll go ahead and set it to the new value."
   ]
  },
  {
   "source": [
    "users[(users.first_name == \"Adrian\") & (users.last_name == \"Fang\")]['balance'] = 35.00"
   ],
   "cell_type": "code",
   "outputs": [
    {
     "output_type": "stream",
     "name": "stderr",
     "text": "<ipython-input-77-321bd8af50d3>:1: SettingWithCopyWarning: \nA value is trying to be set on a copy of a slice from a DataFrame.\nTry using .loc[row_indexer,col_indexer] = value instead\n\nSee the caveats in the documentation: http://pandas.pydata.org/pandas-docs/stable/user_guide/indexing.html#returning-a-view-versus-a-copy\n  users[(users.first_name == \"Adrian\") & (users.last_name == \"Fang\")]['balance'] = 35.00\n"
    }
   ],
   "metadata": {},
   "execution_count": 77
  },
  {
   "cell_type": "markdown",
   "metadata": {},
   "source": [
    "Uh oh! As you can see in the **SettingWithCopyWarning** above that you should not attempt to chain and assign this way.\n",
    "\n",
    "### Using `loc`\n",
    "The [solution](http://pandas.pydata.org/pandas-docs/stable/indexing.html#indexing-view-versus-copy) is to use the `DataFrame.loc` object to locate the row and specific column to update."
   ]
  },
  {
   "source": [
    "users.loc[(users.first_name == \"Adrian\") & (users.last_name == \"Fang\"), 'balance'] = 35.00\n",
    "# Display our updated user with the new value assigned\n",
    "users.loc['adrian']\n",
    "users.loc['adrian','balance']=39.99\n",
    "users.at['adrian', 'balance']"
   ],
   "cell_type": "code",
   "outputs": [
    {
     "output_type": "execute_result",
     "data": {
      "text/plain": "39.99"
     },
     "metadata": {},
     "execution_count": 78
    }
   ],
   "metadata": {},
   "execution_count": 78
  },
  {
   "cell_type": "markdown",
   "metadata": {},
   "source": [
    "### Using `at`\n",
    "\n",
    "You can also use the `DataFrame.at` method to quickly set scalar values"
   ]
  },
  {
   "source": [
    "users.at['adrian', 'balance'] = 35.00"
   ],
   "cell_type": "code",
   "outputs": [],
   "metadata": {},
   "execution_count": 79
  },
  {
   "cell_type": "markdown",
   "metadata": {},
   "source": [
    "## Adding Rows\n",
    "\n",
    "So we changed the **`balance`** variable for Adrian, and now we need to track that the transaction occurred.\n",
    "\n",
    "Let's take a quick peek at the **`transcactions`** DataFrame."
   ]
  },
  {
   "source": [
    "transactions.head()"
   ],
   "cell_type": "code",
   "outputs": [
    {
     "output_type": "execute_result",
     "data": {
      "text/plain": "       sender      receiver  amount   sent_date\n0       stein        smoyer   49.03  2018-01-24\n1  holden4580  joshua.henry   34.64  2018-02-06\n2  rose.eaton   emily.lewis   62.67  2018-02-15\n3      lmoore        kallen    1.94  2018-03-05\n4   scott3928        lmoore   27.82  2018-03-10",
      "text/html": "<div>\n<style scoped>\n    .dataframe tbody tr th:only-of-type {\n        vertical-align: middle;\n    }\n\n    .dataframe tbody tr th {\n        vertical-align: top;\n    }\n\n    .dataframe thead th {\n        text-align: right;\n    }\n</style>\n<table border=\"1\" class=\"dataframe\">\n  <thead>\n    <tr style=\"text-align: right;\">\n      <th></th>\n      <th>sender</th>\n      <th>receiver</th>\n      <th>amount</th>\n      <th>sent_date</th>\n    </tr>\n  </thead>\n  <tbody>\n    <tr>\n      <th>0</th>\n      <td>stein</td>\n      <td>smoyer</td>\n      <td>49.03</td>\n      <td>2018-01-24</td>\n    </tr>\n    <tr>\n      <th>1</th>\n      <td>holden4580</td>\n      <td>joshua.henry</td>\n      <td>34.64</td>\n      <td>2018-02-06</td>\n    </tr>\n    <tr>\n      <th>2</th>\n      <td>rose.eaton</td>\n      <td>emily.lewis</td>\n      <td>62.67</td>\n      <td>2018-02-15</td>\n    </tr>\n    <tr>\n      <th>3</th>\n      <td>lmoore</td>\n      <td>kallen</td>\n      <td>1.94</td>\n      <td>2018-03-05</td>\n    </tr>\n    <tr>\n      <th>4</th>\n      <td>scott3928</td>\n      <td>lmoore</td>\n      <td>27.82</td>\n      <td>2018-03-10</td>\n    </tr>\n  </tbody>\n</table>\n</div>"
     },
     "metadata": {},
     "execution_count": 80
    }
   ],
   "metadata": {},
   "execution_count": 80
  },
  {
   "source": [
    "# Let's build a new record\n",
    "record = dict(sender=np.nan, receiver='adrian', amount=4.99, sent_date=datetime.now().date())"
   ],
   "cell_type": "code",
   "outputs": [],
   "metadata": {},
   "execution_count": 81
  },
  {
   "cell_type": "markdown",
   "metadata": {},
   "source": [
    "### Appending with [`DataFrame.append`](https://pandas.pydata.org/pandas-docs/stable/generated/pandas.DataFrame.append.html)\n",
    "\n",
    "The `DataFrame.append`](https://pandas.pydata.org/pandas-docs/stable/generated/pandas.DataFrame.append.html) method adds a new row to a new dataset. This method doesn't change the original dataset it returns a copy of the DataFrame with the new row(s) appended.\n",
    "\n",
    "The index for our **`transactions`** is auto assigned, so we'll set the **`ignore_index`** keyword argument to `True`, so it gets generated.\n"
   ]
  },
  {
   "source": [
    "# Remember this is returning a copy...\n",
    "transactions.append(record, ignore_index=True).tail()\n",
    "record1 = dict(sender='moose', receiver='boolwinckl', amount=9.99, sent_date=datetime.now().date())\n",
    "transactions.append(record1, ignore_index=True).tail()\n",
    "\n",
    ""
   ],
   "cell_type": "code",
   "outputs": [
    {
     "output_type": "execute_result",
     "data": {
      "text/plain": "         sender      receiver  amount   sent_date\n994    king3246          john   25.37  2018-09-25\n995  shernandez   kristen1581   75.77  2018-09-25\n996    leah6255     jholloway   63.62  2018-09-25\n997      pamela  michelle4225    2.54  2018-09-25\n998       moose    boolwinckl    9.99  2020-02-06",
      "text/html": "<div>\n<style scoped>\n    .dataframe tbody tr th:only-of-type {\n        vertical-align: middle;\n    }\n\n    .dataframe tbody tr th {\n        vertical-align: top;\n    }\n\n    .dataframe thead th {\n        text-align: right;\n    }\n</style>\n<table border=\"1\" class=\"dataframe\">\n  <thead>\n    <tr style=\"text-align: right;\">\n      <th></th>\n      <th>sender</th>\n      <th>receiver</th>\n      <th>amount</th>\n      <th>sent_date</th>\n    </tr>\n  </thead>\n  <tbody>\n    <tr>\n      <th>994</th>\n      <td>king3246</td>\n      <td>john</td>\n      <td>25.37</td>\n      <td>2018-09-25</td>\n    </tr>\n    <tr>\n      <th>995</th>\n      <td>shernandez</td>\n      <td>kristen1581</td>\n      <td>75.77</td>\n      <td>2018-09-25</td>\n    </tr>\n    <tr>\n      <th>996</th>\n      <td>leah6255</td>\n      <td>jholloway</td>\n      <td>63.62</td>\n      <td>2018-09-25</td>\n    </tr>\n    <tr>\n      <th>997</th>\n      <td>pamela</td>\n      <td>michelle4225</td>\n      <td>2.54</td>\n      <td>2018-09-25</td>\n    </tr>\n    <tr>\n      <th>998</th>\n      <td>moose</td>\n      <td>boolwinckl</td>\n      <td>9.99</td>\n      <td>2020-02-06</td>\n    </tr>\n  </tbody>\n</table>\n</div>"
     },
     "metadata": {},
     "execution_count": 83
    }
   ],
   "metadata": {},
   "execution_count": 83
  },
  {
   "cell_type": "markdown",
   "metadata": {},
   "source": [
    "If you are appending multiple rows, the more effective way to get the job done is by using the [`pandas.concat`](https://pandas.pydata.org/pandas-docs/stable/generated/pandas.concat.htm) method."
   ]
  },
  {
   "cell_type": "markdown",
   "metadata": {},
   "source": [
    "### Setting With Enlargement\n",
    "\n",
    "If you assign to a non-existent index key, the DataFrame will be enlarged automatically, the row will just be added.\n",
    "\n",
    "There is a slight problem here, as the index in the **`transactions`** DataFrame is autogenerated.  A popular workaround is to figure out the last used index, and increment it."
   ]
  },
  {
   "source": [
    "# Largest current record, incremented\n",
    "next_key = transactions.index.max() + 1\n",
    "transactions.loc[next_key] = record \n",
    "# Make sure it got added\n",
    "transactions.tail()\n",
    "transactions.index[-1]"
   ],
   "cell_type": "code",
   "outputs": [
    {
     "output_type": "execute_result",
     "data": {
      "text/plain": "1001"
     },
     "metadata": {},
     "execution_count": 87
    }
   ],
   "metadata": {},
   "execution_count": 87
  },
  {
   "cell_type": "markdown",
   "metadata": {},
   "source": [
    "## Adding Columns\n",
    "\n",
    "You can add columns much like you do rows, missing values will be set to `np.nan`."
   ]
  },
  {
   "cell_type": "markdown",
   "metadata": {},
   "source": [
    "### Setting With Enlargement"
   ]
  },
  {
   "source": [
    "latest_id = transactions.index.max()\n",
    "# Add a new column named notes\n",
    "transactions.at[latest_id, 'notes'] = 'Adrian called customer support to report billing error.'\n",
    "transactions.tail()"
   ],
   "cell_type": "code",
   "outputs": [
    {
     "output_type": "execute_result",
     "data": {
      "text/plain": "      sender      receiver  amount   sent_date  \\\n997   pamela  michelle4225    2.54  2018-09-25   \n998      NaN        adrian    4.99  2020-02-06   \n999      NaN        adrian    4.99  2020-02-06   \n1000     NaN        adrian    4.99  2020-02-06   \n1001     NaN        adrian    4.99  2020-02-06   \n\n                                                  notes  \n997                                                 NaN  \n998                                                 NaN  \n999                                                 NaN  \n1000                                                NaN  \n1001  Adrian called customer support to report billi...  ",
      "text/html": "<div>\n<style scoped>\n    .dataframe tbody tr th:only-of-type {\n        vertical-align: middle;\n    }\n\n    .dataframe tbody tr th {\n        vertical-align: top;\n    }\n\n    .dataframe thead th {\n        text-align: right;\n    }\n</style>\n<table border=\"1\" class=\"dataframe\">\n  <thead>\n    <tr style=\"text-align: right;\">\n      <th></th>\n      <th>sender</th>\n      <th>receiver</th>\n      <th>amount</th>\n      <th>sent_date</th>\n      <th>notes</th>\n    </tr>\n  </thead>\n  <tbody>\n    <tr>\n      <th>997</th>\n      <td>pamela</td>\n      <td>michelle4225</td>\n      <td>2.54</td>\n      <td>2018-09-25</td>\n      <td>NaN</td>\n    </tr>\n    <tr>\n      <th>998</th>\n      <td>NaN</td>\n      <td>adrian</td>\n      <td>4.99</td>\n      <td>2020-02-06</td>\n      <td>NaN</td>\n    </tr>\n    <tr>\n      <th>999</th>\n      <td>NaN</td>\n      <td>adrian</td>\n      <td>4.99</td>\n      <td>2020-02-06</td>\n      <td>NaN</td>\n    </tr>\n    <tr>\n      <th>1000</th>\n      <td>NaN</td>\n      <td>adrian</td>\n      <td>4.99</td>\n      <td>2020-02-06</td>\n      <td>NaN</td>\n    </tr>\n    <tr>\n      <th>1001</th>\n      <td>NaN</td>\n      <td>adrian</td>\n      <td>4.99</td>\n      <td>2020-02-06</td>\n      <td>Adrian called customer support to report billi...</td>\n    </tr>\n  </tbody>\n</table>\n</div>"
     },
     "metadata": {},
     "execution_count": 88
    }
   ],
   "metadata": {},
   "execution_count": 88
  },
  {
   "cell_type": "markdown",
   "metadata": {},
   "source": [
    "The column can be added and assigned from an expression."
   ]
  },
  {
   "source": [
    "# Add a new column called large. This is a bad name and use of a column ;)\n",
    "transactions['large'] = transactions.amount > 70"
   ],
   "cell_type": "code",
   "outputs": [],
   "metadata": {},
   "execution_count": 68
  },
  {
   "source": [
    "transactions.head()"
   ],
   "cell_type": "code",
   "outputs": [
    {
     "output_type": "execute_result",
     "data": {
      "text/plain": "       sender      receiver  amount   sent_date notes  large\n0       stein        smoyer   49.03  2018-01-24   NaN  False\n1  holden4580  joshua.henry   34.64  2018-02-06   NaN  False\n2  rose.eaton   emily.lewis   62.67  2018-02-15   NaN  False\n3      lmoore        kallen    1.94  2018-03-05   NaN  False\n4   scott3928        lmoore   27.82  2018-03-10   NaN  False",
      "text/html": "<div>\n<style scoped>\n    .dataframe tbody tr th:only-of-type {\n        vertical-align: middle;\n    }\n\n    .dataframe tbody tr th {\n        vertical-align: top;\n    }\n\n    .dataframe thead th {\n        text-align: right;\n    }\n</style>\n<table border=\"1\" class=\"dataframe\">\n  <thead>\n    <tr style=\"text-align: right;\">\n      <th></th>\n      <th>sender</th>\n      <th>receiver</th>\n      <th>amount</th>\n      <th>sent_date</th>\n      <th>notes</th>\n      <th>large</th>\n    </tr>\n  </thead>\n  <tbody>\n    <tr>\n      <th>0</th>\n      <td>stein</td>\n      <td>smoyer</td>\n      <td>49.03</td>\n      <td>2018-01-24</td>\n      <td>NaN</td>\n      <td>False</td>\n    </tr>\n    <tr>\n      <th>1</th>\n      <td>holden4580</td>\n      <td>joshua.henry</td>\n      <td>34.64</td>\n      <td>2018-02-06</td>\n      <td>NaN</td>\n      <td>False</td>\n    </tr>\n    <tr>\n      <th>2</th>\n      <td>rose.eaton</td>\n      <td>emily.lewis</td>\n      <td>62.67</td>\n      <td>2018-02-15</td>\n      <td>NaN</td>\n      <td>False</td>\n    </tr>\n    <tr>\n      <th>3</th>\n      <td>lmoore</td>\n      <td>kallen</td>\n      <td>1.94</td>\n      <td>2018-03-05</td>\n      <td>NaN</td>\n      <td>False</td>\n    </tr>\n    <tr>\n      <th>4</th>\n      <td>scott3928</td>\n      <td>lmoore</td>\n      <td>27.82</td>\n      <td>2018-03-10</td>\n      <td>NaN</td>\n      <td>False</td>\n    </tr>\n  </tbody>\n</table>\n</div>"
     },
     "metadata": {},
     "execution_count": 69
    }
   ],
   "metadata": {},
   "execution_count": 69
  },
  {
   "cell_type": "markdown",
   "metadata": {},
   "source": [
    "## Renaming Columns\n",
    "Renaming columns can be acheived using the [`DataFrame.rename`](https://pandas.pydata.org/pandas-docs/stable/generated/pandas.DataFrame.rename.html) method.  You specify the current name(s) as the key(s) and the new name(s) as the value(s).\n",
    "\n",
    "By default this returns a copy, but you can use the `inplace` parameter to change the existing `DataFrame`."
   ]
  },
  {
   "source": [
    "transactions.rename(columns={'large': 'big_sender'}, inplace=True)\n",
    "transactions.head()"
   ],
   "cell_type": "code",
   "outputs": [
    {
     "output_type": "execute_result",
     "data": {
      "text/plain": "       sender      receiver  amount   sent_date notes  big_sender\n0       stein        smoyer   49.03  2018-01-24   NaN       False\n1  holden4580  joshua.henry   34.64  2018-02-06   NaN       False\n2  rose.eaton   emily.lewis   62.67  2018-02-15   NaN       False\n3      lmoore        kallen    1.94  2018-03-05   NaN       False\n4   scott3928        lmoore   27.82  2018-03-10   NaN       False",
      "text/html": "<div>\n<style scoped>\n    .dataframe tbody tr th:only-of-type {\n        vertical-align: middle;\n    }\n\n    .dataframe tbody tr th {\n        vertical-align: top;\n    }\n\n    .dataframe thead th {\n        text-align: right;\n    }\n</style>\n<table border=\"1\" class=\"dataframe\">\n  <thead>\n    <tr style=\"text-align: right;\">\n      <th></th>\n      <th>sender</th>\n      <th>receiver</th>\n      <th>amount</th>\n      <th>sent_date</th>\n      <th>notes</th>\n      <th>big_sender</th>\n    </tr>\n  </thead>\n  <tbody>\n    <tr>\n      <th>0</th>\n      <td>stein</td>\n      <td>smoyer</td>\n      <td>49.03</td>\n      <td>2018-01-24</td>\n      <td>NaN</td>\n      <td>False</td>\n    </tr>\n    <tr>\n      <th>1</th>\n      <td>holden4580</td>\n      <td>joshua.henry</td>\n      <td>34.64</td>\n      <td>2018-02-06</td>\n      <td>NaN</td>\n      <td>False</td>\n    </tr>\n    <tr>\n      <th>2</th>\n      <td>rose.eaton</td>\n      <td>emily.lewis</td>\n      <td>62.67</td>\n      <td>2018-02-15</td>\n      <td>NaN</td>\n      <td>False</td>\n    </tr>\n    <tr>\n      <th>3</th>\n      <td>lmoore</td>\n      <td>kallen</td>\n      <td>1.94</td>\n      <td>2018-03-05</td>\n      <td>NaN</td>\n      <td>False</td>\n    </tr>\n    <tr>\n      <th>4</th>\n      <td>scott3928</td>\n      <td>lmoore</td>\n      <td>27.82</td>\n      <td>2018-03-10</td>\n      <td>NaN</td>\n      <td>False</td>\n    </tr>\n  </tbody>\n</table>\n</div>"
     },
     "metadata": {},
     "execution_count": 70
    }
   ],
   "metadata": {},
   "execution_count": 70
  },
  {
   "cell_type": "markdown",
   "metadata": {},
   "source": [
    "## Deleting Columns\n",
    "\n",
    "In addition to slicing a `DataFrame` to simply not include a specific existing column. You can also drop columns by name. Let's remove the two that we added, in place."
   ]
  },
  {
   "source": [
    "transactions.drop(columns=['notes'], inplace=True)\n",
    "transactions.head()"
   ],
   "cell_type": "code",
   "outputs": [
    {
     "output_type": "execute_result",
     "data": {
      "text/plain": "       sender      receiver  amount   sent_date  big_sender\n0       stein        smoyer   49.03  2018-01-24       False\n1  holden4580  joshua.henry   34.64  2018-02-06       False\n2  rose.eaton   emily.lewis   62.67  2018-02-15       False\n3      lmoore        kallen    1.94  2018-03-05       False\n4   scott3928        lmoore   27.82  2018-03-10       False",
      "text/html": "<div>\n<style scoped>\n    .dataframe tbody tr th:only-of-type {\n        vertical-align: middle;\n    }\n\n    .dataframe tbody tr th {\n        vertical-align: top;\n    }\n\n    .dataframe thead th {\n        text-align: right;\n    }\n</style>\n<table border=\"1\" class=\"dataframe\">\n  <thead>\n    <tr style=\"text-align: right;\">\n      <th></th>\n      <th>sender</th>\n      <th>receiver</th>\n      <th>amount</th>\n      <th>sent_date</th>\n      <th>big_sender</th>\n    </tr>\n  </thead>\n  <tbody>\n    <tr>\n      <th>0</th>\n      <td>stein</td>\n      <td>smoyer</td>\n      <td>49.03</td>\n      <td>2018-01-24</td>\n      <td>False</td>\n    </tr>\n    <tr>\n      <th>1</th>\n      <td>holden4580</td>\n      <td>joshua.henry</td>\n      <td>34.64</td>\n      <td>2018-02-06</td>\n      <td>False</td>\n    </tr>\n    <tr>\n      <th>2</th>\n      <td>rose.eaton</td>\n      <td>emily.lewis</td>\n      <td>62.67</td>\n      <td>2018-02-15</td>\n      <td>False</td>\n    </tr>\n    <tr>\n      <th>3</th>\n      <td>lmoore</td>\n      <td>kallen</td>\n      <td>1.94</td>\n      <td>2018-03-05</td>\n      <td>False</td>\n    </tr>\n    <tr>\n      <th>4</th>\n      <td>scott3928</td>\n      <td>lmoore</td>\n      <td>27.82</td>\n      <td>2018-03-10</td>\n      <td>False</td>\n    </tr>\n  </tbody>\n</table>\n</div>"
     },
     "metadata": {},
     "execution_count": 71
    }
   ],
   "metadata": {},
   "execution_count": 71
  },
  {
   "cell_type": "markdown",
   "metadata": {},
   "source": [
    "You might have seen this done before using the `axis` parameter.\n",
    "\n",
    "Let's get rid of the oddly named **`big_sender`** column. Why'd you let me name it that way?"
   ]
  },
  {
   "source": [
    "transactions.drop(['big_sender'], axis='columns', inplace=True)\n",
    "transactions.head()"
   ],
   "cell_type": "code",
   "outputs": [
    {
     "output_type": "execute_result",
     "data": {
      "text/plain": "       sender      receiver  amount   sent_date\n0       stein        smoyer   49.03  2018-01-24\n1  holden4580  joshua.henry   34.64  2018-02-06\n2  rose.eaton   emily.lewis   62.67  2018-02-15\n3      lmoore        kallen    1.94  2018-03-05\n4   scott3928        lmoore   27.82  2018-03-10",
      "text/html": "<div>\n<style scoped>\n    .dataframe tbody tr th:only-of-type {\n        vertical-align: middle;\n    }\n\n    .dataframe tbody tr th {\n        vertical-align: top;\n    }\n\n    .dataframe thead th {\n        text-align: right;\n    }\n</style>\n<table border=\"1\" class=\"dataframe\">\n  <thead>\n    <tr style=\"text-align: right;\">\n      <th></th>\n      <th>sender</th>\n      <th>receiver</th>\n      <th>amount</th>\n      <th>sent_date</th>\n    </tr>\n  </thead>\n  <tbody>\n    <tr>\n      <th>0</th>\n      <td>stein</td>\n      <td>smoyer</td>\n      <td>49.03</td>\n      <td>2018-01-24</td>\n    </tr>\n    <tr>\n      <th>1</th>\n      <td>holden4580</td>\n      <td>joshua.henry</td>\n      <td>34.64</td>\n      <td>2018-02-06</td>\n    </tr>\n    <tr>\n      <th>2</th>\n      <td>rose.eaton</td>\n      <td>emily.lewis</td>\n      <td>62.67</td>\n      <td>2018-02-15</td>\n    </tr>\n    <tr>\n      <th>3</th>\n      <td>lmoore</td>\n      <td>kallen</td>\n      <td>1.94</td>\n      <td>2018-03-05</td>\n    </tr>\n    <tr>\n      <th>4</th>\n      <td>scott3928</td>\n      <td>lmoore</td>\n      <td>27.82</td>\n      <td>2018-03-10</td>\n    </tr>\n  </tbody>\n</table>\n</div>"
     },
     "metadata": {},
     "execution_count": 72
    }
   ],
   "metadata": {},
   "execution_count": 72
  },
  {
   "cell_type": "markdown",
   "metadata": {},
   "source": [
    "## Deleting Rows\n",
    "You can see also use the [`DataFrame.drop`](https://pandas.pydata.org/pandas-docs/stable/generated/pandas.DataFrame.drop.html) method to remove row(s) by index."
   ]
  },
  {
   "source": [
    "last_key = transactions.index.max()\n",
    "transactions.drop(index=[last_key], inplace=True)\n",
    "transactions.tail()"
   ],
   "cell_type": "code",
   "outputs": [
    {
     "output_type": "execute_result",
     "data": {
      "text/plain": "         sender      receiver  amount   sent_date\n993     coleman   sarah.evans   36.29  2018-09-25\n994    king3246          john   25.37  2018-09-25\n995  shernandez   kristen1581   75.77  2018-09-25\n996    leah6255     jholloway   63.62  2018-09-25\n997      pamela  michelle4225    2.54  2018-09-25",
      "text/html": "<div>\n<style scoped>\n    .dataframe tbody tr th:only-of-type {\n        vertical-align: middle;\n    }\n\n    .dataframe tbody tr th {\n        vertical-align: top;\n    }\n\n    .dataframe thead th {\n        text-align: right;\n    }\n</style>\n<table border=\"1\" class=\"dataframe\">\n  <thead>\n    <tr style=\"text-align: right;\">\n      <th></th>\n      <th>sender</th>\n      <th>receiver</th>\n      <th>amount</th>\n      <th>sent_date</th>\n    </tr>\n  </thead>\n  <tbody>\n    <tr>\n      <th>993</th>\n      <td>coleman</td>\n      <td>sarah.evans</td>\n      <td>36.29</td>\n      <td>2018-09-25</td>\n    </tr>\n    <tr>\n      <th>994</th>\n      <td>king3246</td>\n      <td>john</td>\n      <td>25.37</td>\n      <td>2018-09-25</td>\n    </tr>\n    <tr>\n      <th>995</th>\n      <td>shernandez</td>\n      <td>kristen1581</td>\n      <td>75.77</td>\n      <td>2018-09-25</td>\n    </tr>\n    <tr>\n      <th>996</th>\n      <td>leah6255</td>\n      <td>jholloway</td>\n      <td>63.62</td>\n      <td>2018-09-25</td>\n    </tr>\n    <tr>\n      <th>997</th>\n      <td>pamela</td>\n      <td>michelle4225</td>\n      <td>2.54</td>\n      <td>2018-09-25</td>\n    </tr>\n  </tbody>\n</table>\n</div>"
     },
     "metadata": {},
     "execution_count": 73
    }
   ],
   "metadata": {},
   "execution_count": 73
  }
 ],
 "metadata": {
  "kernelspec": {
   "display_name": "Python 3",
   "language": "python",
   "name": "python3"
  },
  "language_info": {
   "codemirror_mode": {
    "name": "ipython",
    "version": 3
   },
   "file_extension": ".py",
   "mimetype": "text/x-python",
   "name": "python",
   "nbconvert_exporter": "python",
   "pygments_lexer": "ipython3",
   "version": "3.8.1-final"
  }
 },
 "nbformat": 4,
 "nbformat_minor": 2
}