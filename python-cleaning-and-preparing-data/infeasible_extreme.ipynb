{
 "nbformat": 4,
 "nbformat_minor": 2,
 "metadata": {
  "language_info": {
   "name": "python",
   "codemirror_mode": {
    "name": "ipython",
    "version": 3
   },
   "version": "3.7.2-final"
  },
  "orig_nbformat": 2,
  "file_extension": ".py",
  "mimetype": "text/x-python",
  "name": "python",
  "npconvert_exporter": "python",
  "pygments_lexer": "ipython3",
  "version": 3,
  "kernelspec": {
   "name": "python37264bit5b55e99ae245479bafebc85bc55a8877",
   "display_name": "Python 3.7.2 64-bit"
  }
 },
 "cells": [
  {
   "cell_type": "code",
   "execution_count": 1,
   "metadata": {},
   "outputs": [],
   "source": [
    "import pandas as pd\n",
    "import numpy as np\n",
    "import itertools\n",
    "import os"
   ]
  },
  {
   "cell_type": "code",
   "execution_count": 3,
   "metadata": {},
   "outputs": [],
   "source": [
    "demo = pd.read_csv('Demographics.csv')\n",
    "bmx = pd.read_csv('BodyMeasures.csv')\n",
    "ocq = pd.read_csv('Occupation.csv')"
   ]
  },
  {
   "cell_type": "code",
   "execution_count": 4,
   "metadata": {},
   "outputs": [
    {
     "data": {
      "text/plain": "count     9181.000000\nmean        67.519987\nstd        282.449524\nmin       -149.000000\n25%         39.200000\n50%         63.000000\n75%         79.700000\nmax      12870.000000\nName: BMXWT, dtype: float64"
     },
     "execution_count": 4,
     "metadata": {},
     "output_type": "execute_result"
    }
   ],
   "source": [
    "bmx['BMXWT'].describe()"
   ]
  },
  {
   "cell_type": "code",
   "execution_count": 12,
   "metadata": {},
   "outputs": [],
   "source": [
    "bmx.loc[bmx['BMXWT'] < 0, 'BMXWT'] = np.nan\n"
   ]
  },
  {
   "cell_type": "code",
   "execution_count": 13,
   "metadata": {},
   "outputs": [
    {
     "data": {
      "text/plain": "count     9175.000000\nmean        67.620357\nstd        282.512782\nmin          3.100000\n25%         39.300000\n50%         63.000000\n75%         79.800000\nmax      12870.000000\nName: BMXWT, dtype: float64"
     },
     "execution_count": 13,
     "metadata": {},
     "output_type": "execute_result"
    }
   ],
   "source": [
    "bmx['BMXWT'].describe()\n"
   ]
  },
  {
   "cell_type": "code",
   "execution_count": 16,
   "metadata": {},
   "outputs": [
    {
     "data": {
      "text/plain": "array([ 3., nan,  4.,  1., 11.,  7.])"
     },
     "execution_count": 16,
     "metadata": {},
     "output_type": "execute_result"
    }
   ],
   "source": [
    "bmx['BMIWT'].unique()\n"
   ]
  },
  {
   "cell_type": "code",
   "execution_count": 17,
   "metadata": {},
   "outputs": [],
   "source": [
    "i = bmx['BMIWT'] > 4\n",
    "bmx.loc[i, 'BMIWT'] = np.nan"
   ]
  },
  {
   "cell_type": "code",
   "execution_count": 18,
   "metadata": {},
   "outputs": [
    {
     "data": {
      "text/plain": "array([ 3., nan,  4.,  1.])"
     },
     "execution_count": 18,
     "metadata": {},
     "output_type": "execute_result"
    }
   ],
   "source": [
    "bmx['BMIWT'].unique()\n"
   ]
  },
  {
   "cell_type": "markdown",
   "metadata": {},
   "source": [
    "#### According to Guniess World Recorts the heaviest person in the world weighed 635, therefore weight more than that is odd"
   ]
  },
  {
   "cell_type": "code",
   "execution_count": 19,
   "metadata": {},
   "outputs": [],
   "source": [
    "i = bmx['BMXWT'] > 635\n",
    "bmx.loc[i, 'BMXWT'] = np.nan"
   ]
  },
  {
   "cell_type": "code",
   "execution_count": 20,
   "metadata": {},
   "outputs": [
    {
     "data": {
      "text/plain": "count    9166.000000\nmean       59.967574\nstd        29.841072\nmin         3.100000\n25%        39.200000\n50%        63.000000\n75%        79.600000\nmax       193.300000\nName: BMXWT, dtype: float64"
     },
     "execution_count": 20,
     "metadata": {},
     "output_type": "execute_result"
    }
   ],
   "source": [
    "bmx['BMXWT'].describe()"
   ]
  },
  {
   "cell_type": "markdown",
   "metadata": {},
   "source": [
    "#### To find outliers you've to determine how many standards deviations a value is from the average for that group, that called `z-score`\n",
    "* To find `z-score` of the `max` and `min` weight values,\n",
    "    * first calculate the `mean` and standard deviation in the entire colum\n",
    "    * then substract the `mean` from `max` and `min` values and divide by `std`"
   ]
  },
  {
   "cell_type": "code",
   "execution_count": 21,
   "metadata": {},
   "outputs": [],
   "source": [
    "mean_weight = np.nanmean(bmx['BMXWT'])\n",
    "std_weight = np.nanstd(bmx['BMXWT'])\n",
    "min_weight = np.nanmin(bmx['BMXWT'])\n",
    "max_weight = np.nanmax(bmx['BMXWT'])"
   ]
  },
  {
   "cell_type": "code",
   "execution_count": 31,
   "metadata": {},
   "outputs": [
    {
     "name": "stdout",
     "output_type": "stream",
     "text": "Max weight z-score 4.5\nMin weight z-score -1.9\n"
    }
   ],
   "source": [
    "low_weight_zscore = (min_weight - mean_weight) / std_weight\n",
    "high_weight_zscore = (max_weight - mean_weight) / std_weight\n",
    "\n",
    "print(f'Max weight z-score {high_weight_zscore:.1f}')\n",
    "print(f'Min weight z-score {low_weight_zscore:.1f}')"
   ]
  },
  {
   "cell_type": "markdown",
   "metadata": {},
   "source": [
    "#### Replace all ages > 85 to 85, according to our data code book"
   ]
  },
  {
   "cell_type": "code",
   "execution_count": 32,
   "metadata": {},
   "outputs": [],
   "source": [
    "i = demo['RIDAGEYR'] > 85\n",
    "demo.loc[i, 'RIDAGEYR'] = 85"
   ]
  },
  {
   "cell_type": "code",
   "execution_count": 33,
   "metadata": {},
   "outputs": [
    {
     "data": {
      "text/plain": "count    9760.000000\nmean       29.758299\nstd        24.953160\nmin       -69.000000\n25%        11.000000\n50%        19.000000\n75%        49.000000\nmax        85.000000\nName: RIDAGEYR, dtype: float64"
     },
     "execution_count": 33,
     "metadata": {},
     "output_type": "execute_result"
    }
   ],
   "source": [
    "demo['RIDAGEYR'].describe()"
   ]
  },
  {
   "cell_type": "code",
   "execution_count": 34,
   "metadata": {},
   "outputs": [],
   "source": [
    "demo.to_csv('Demographics.csv', index=False)\n",
    "bmx.to_csv('BodyMeasures.csv', index=False)\n",
    "ocq.to_csv('Occupation.csv', index=False)"
   ]
  },
  {
   "cell_type": "code",
   "execution_count": null,
   "metadata": {},
   "outputs": [],
   "source": []
  },
  {
   "cell_type": "code",
   "execution_count": null,
   "metadata": {},
   "outputs": [],
   "source": []
  },
  {
   "cell_type": "code",
   "execution_count": null,
   "metadata": {},
   "outputs": [],
   "source": []
  }
 ]
}