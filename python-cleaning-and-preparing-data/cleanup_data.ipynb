{
 "nbformat": 4,
 "nbformat_minor": 2,
 "metadata": {
  "language_info": {
   "name": "python",
   "codemirror_mode": {
    "name": "ipython",
    "version": 3
   },
   "version": "3.8.1-final"
  },
  "orig_nbformat": 2,
  "file_extension": ".py",
  "mimetype": "text/x-python",
  "name": "python",
  "npconvert_exporter": "python",
  "pygments_lexer": "ipython3",
  "version": 3,
  "kernelspec": {
   "name": "python38164bit7e7edf2894d14d708e1bb3b5f07d70fe",
   "display_name": "Python 3.8.1 64-bit"
  }
 },
 "cells": [
  {
   "cell_type": "code",
   "execution_count": 9,
   "metadata": {},
   "outputs": [],
   "source": [
    "import pandas as pd\n",
    "import os"
   ]
  },
  {
   "cell_type": "markdown",
   "execution_count": null,
   "metadata": {},
   "outputs": [],
   "source": [
    "* Load data to work with"
   ]
  },
  {
   "cell_type": "code",
   "execution_count": 10,
   "metadata": {},
   "outputs": [],
   "source": [
    "demo = pd.read_csv(os.path.join('s1v4', 'Demographics.csv'))\n",
    "bmx = pd.read_csv(os.path.join('s1v4', 'BodyMeasures.csv'))\n",
    "ocp = pd.read_csv(os.path.join('s1v4', 'Occupation.csv'))"
   ]
  },
  {
   "cell_type": "code",
   "execution_count": 11,
   "metadata": {},
   "outputs": [
    {
     "data": {
      "text/html": "<div>\n<style scoped>\n    .dataframe tbody tr th:only-of-type {\n        vertical-align: middle;\n    }\n\n    .dataframe tbody tr th {\n        vertical-align: top;\n    }\n\n    .dataframe thead th {\n        text-align: right;\n    }\n</style>\n<table border=\"1\" class=\"dataframe\">\n  <thead>\n    <tr style=\"text-align: right;\">\n      <th></th>\n      <th>SEQN</th>\n      <th>SDDSRVYR</th>\n      <th>RIDEXMON</th>\n      <th>RIDAGEYR</th>\n      <th>RIDAGEMN</th>\n      <th>RIDAGEEX</th>\n      <th>RIDRETH2</th>\n      <th>DMDEDUC</th>\n      <th>DMDHHSIZ</th>\n      <th>INDHHINC</th>\n      <th>...</th>\n      <th>WTIREP43</th>\n      <th>WTIREP44</th>\n      <th>WTIREP45</th>\n      <th>WTIREP46</th>\n      <th>WTIREP47</th>\n      <th>WTIREP48</th>\n      <th>WTIREP49</th>\n      <th>WTIREP50</th>\n      <th>WTIREP51</th>\n      <th>WTIREP52</th>\n    </tr>\n  </thead>\n  <tbody>\n    <tr>\n      <th>count</th>\n      <td>10586.000000</td>\n      <td>10375.0</td>\n      <td>9666.000000</td>\n      <td>10377.000000</td>\n      <td>10199.000000</td>\n      <td>9523.000000</td>\n      <td>10378.000000</td>\n      <td>8757.000000</td>\n      <td>10378.000000</td>\n      <td>8793.000000</td>\n      <td>...</td>\n      <td>10378.000000</td>\n      <td>10375.000000</td>\n      <td>10375.000000</td>\n      <td>10375.000000</td>\n      <td>10375.000000</td>\n      <td>10375.000000</td>\n      <td>10375.000000</td>\n      <td>10378.000000</td>\n      <td>10378.000000</td>\n      <td>10378.000000</td>\n    </tr>\n    <tr>\n      <th>mean</th>\n      <td>4988.601833</td>\n      <td>1.0</td>\n      <td>1.578316</td>\n      <td>29.701262</td>\n      <td>350.151289</td>\n      <td>345.017957</td>\n      <td>2.238293</td>\n      <td>1.653534</td>\n      <td>3.928503</td>\n      <td>7.344820</td>\n      <td>...</td>\n      <td>27312.920986</td>\n      <td>27262.634781</td>\n      <td>27254.050699</td>\n      <td>27292.018643</td>\n      <td>27332.732228</td>\n      <td>27294.538724</td>\n      <td>27289.947031</td>\n      <td>27316.319076</td>\n      <td>27309.103507</td>\n      <td>27275.031006</td>\n    </tr>\n    <tr>\n      <th>std</th>\n      <td>2881.766130</td>\n      <td>0.0</td>\n      <td>0.493854</td>\n      <td>24.894062</td>\n      <td>286.460814</td>\n      <td>282.898586</td>\n      <td>1.134821</td>\n      <td>0.949912</td>\n      <td>1.775405</td>\n      <td>8.614497</td>\n      <td>...</td>\n      <td>30614.925438</td>\n      <td>30532.200228</td>\n      <td>30965.248224</td>\n      <td>30773.201867</td>\n      <td>30704.771626</td>\n      <td>30126.873213</td>\n      <td>30333.994776</td>\n      <td>30382.665279</td>\n      <td>30833.111259</td>\n      <td>30440.720487</td>\n    </tr>\n    <tr>\n      <th>min</th>\n      <td>1.000000</td>\n      <td>1.0</td>\n      <td>1.000000</td>\n      <td>-69.000000</td>\n      <td>0.000000</td>\n      <td>0.000000</td>\n      <td>1.000000</td>\n      <td>1.000000</td>\n      <td>1.000000</td>\n      <td>1.000000</td>\n      <td>...</td>\n      <td>0.000000</td>\n      <td>0.000000</td>\n      <td>0.000000</td>\n      <td>0.000000</td>\n      <td>0.000000</td>\n      <td>0.000000</td>\n      <td>0.000000</td>\n      <td>0.000000</td>\n      <td>0.000000</td>\n      <td>0.000000</td>\n    </tr>\n    <tr>\n      <th>25%</th>\n      <td>2490.250000</td>\n      <td>1.0</td>\n      <td>1.000000</td>\n      <td>11.000000</td>\n      <td>130.000000</td>\n      <td>129.000000</td>\n      <td>1.000000</td>\n      <td>1.000000</td>\n      <td>2.000000</td>\n      <td>4.000000</td>\n      <td>...</td>\n      <td>5872.353429</td>\n      <td>5825.399910</td>\n      <td>5735.609230</td>\n      <td>5803.552459</td>\n      <td>5823.602951</td>\n      <td>5984.731946</td>\n      <td>5887.112966</td>\n      <td>5908.787800</td>\n      <td>5812.202275</td>\n      <td>5791.221946</td>\n    </tr>\n    <tr>\n      <th>50%</th>\n      <td>4987.000000</td>\n      <td>1.0</td>\n      <td>2.000000</td>\n      <td>19.000000</td>\n      <td>231.000000</td>\n      <td>229.000000</td>\n      <td>2.000000</td>\n      <td>1.000000</td>\n      <td>4.000000</td>\n      <td>6.000000</td>\n      <td>...</td>\n      <td>13365.453053</td>\n      <td>13125.056383</td>\n      <td>12602.772205</td>\n      <td>13053.877621</td>\n      <td>13179.998615</td>\n      <td>13405.471918</td>\n      <td>13272.273365</td>\n      <td>13479.283290</td>\n      <td>13078.262881</td>\n      <td>13483.749560</td>\n    </tr>\n    <tr>\n      <th>75%</th>\n      <td>7490.750000</td>\n      <td>1.0</td>\n      <td>2.000000</td>\n      <td>48.000000</td>\n      <td>560.500000</td>\n      <td>549.000000</td>\n      <td>3.000000</td>\n      <td>2.000000</td>\n      <td>5.000000</td>\n      <td>9.000000</td>\n      <td>...</td>\n      <td>39365.839763</td>\n      <td>39342.944279</td>\n      <td>39951.418727</td>\n      <td>39771.643664</td>\n      <td>39839.701043</td>\n      <td>39474.064714</td>\n      <td>39883.193311</td>\n      <td>39115.824760</td>\n      <td>39386.954612</td>\n      <td>39786.020191</td>\n    </tr>\n    <tr>\n      <th>max</th>\n      <td>9965.000000</td>\n      <td>1.0</td>\n      <td>2.000000</td>\n      <td>109.000000</td>\n      <td>1019.000000</td>\n      <td>1019.000000</td>\n      <td>5.000000</td>\n      <td>9.000000</td>\n      <td>7.000000</td>\n      <td>99.000000</td>\n      <td>...</td>\n      <td>239320.707004</td>\n      <td>237571.751507</td>\n      <td>235750.381473</td>\n      <td>241834.327204</td>\n      <td>232738.992025</td>\n      <td>237147.546794</td>\n      <td>237076.103694</td>\n      <td>238360.240849</td>\n      <td>236648.979858</td>\n      <td>236964.160656</td>\n    </tr>\n  </tbody>\n</table>\n<p>8 rows × 133 columns</p>\n</div>",
      "text/plain": "               SEQN  SDDSRVYR     RIDEXMON      RIDAGEYR      RIDAGEMN  \\\ncount  10586.000000   10375.0  9666.000000  10377.000000  10199.000000   \nmean    4988.601833       1.0     1.578316     29.701262    350.151289   \nstd     2881.766130       0.0     0.493854     24.894062    286.460814   \nmin        1.000000       1.0     1.000000    -69.000000      0.000000   \n25%     2490.250000       1.0     1.000000     11.000000    130.000000   \n50%     4987.000000       1.0     2.000000     19.000000    231.000000   \n75%     7490.750000       1.0     2.000000     48.000000    560.500000   \nmax     9965.000000       1.0     2.000000    109.000000   1019.000000   \n\n          RIDAGEEX      RIDRETH2      DMDEDUC      DMDHHSIZ     INDHHINC  ...  \\\ncount  9523.000000  10378.000000  8757.000000  10378.000000  8793.000000  ...   \nmean    345.017957      2.238293     1.653534      3.928503     7.344820  ...   \nstd     282.898586      1.134821     0.949912      1.775405     8.614497  ...   \nmin       0.000000      1.000000     1.000000      1.000000     1.000000  ...   \n25%     129.000000      1.000000     1.000000      2.000000     4.000000  ...   \n50%     229.000000      2.000000     1.000000      4.000000     6.000000  ...   \n75%     549.000000      3.000000     2.000000      5.000000     9.000000  ...   \nmax    1019.000000      5.000000     9.000000      7.000000    99.000000  ...   \n\n            WTIREP43       WTIREP44       WTIREP45       WTIREP46  \\\ncount   10378.000000   10375.000000   10375.000000   10375.000000   \nmean    27312.920986   27262.634781   27254.050699   27292.018643   \nstd     30614.925438   30532.200228   30965.248224   30773.201867   \nmin         0.000000       0.000000       0.000000       0.000000   \n25%      5872.353429    5825.399910    5735.609230    5803.552459   \n50%     13365.453053   13125.056383   12602.772205   13053.877621   \n75%     39365.839763   39342.944279   39951.418727   39771.643664   \nmax    239320.707004  237571.751507  235750.381473  241834.327204   \n\n            WTIREP47       WTIREP48       WTIREP49       WTIREP50  \\\ncount   10375.000000   10375.000000   10375.000000   10378.000000   \nmean    27332.732228   27294.538724   27289.947031   27316.319076   \nstd     30704.771626   30126.873213   30333.994776   30382.665279   \nmin         0.000000       0.000000       0.000000       0.000000   \n25%      5823.602951    5984.731946    5887.112966    5908.787800   \n50%     13179.998615   13405.471918   13272.273365   13479.283290   \n75%     39839.701043   39474.064714   39883.193311   39115.824760   \nmax    232738.992025  237147.546794  237076.103694  238360.240849   \n\n            WTIREP51       WTIREP52  \ncount   10378.000000   10378.000000  \nmean    27309.103507   27275.031006  \nstd     30833.111259   30440.720487  \nmin         0.000000       0.000000  \n25%      5812.202275    5791.221946  \n50%     13078.262881   13483.749560  \n75%     39386.954612   39786.020191  \nmax    236648.979858  236964.160656  \n\n[8 rows x 133 columns]"
     },
     "execution_count": 11,
     "metadata": {},
     "output_type": "execute_result"
    }
   ],
   "source": [
    "demo.describe()"
   ]
  },
  {
   "cell_type": "code",
   "execution_count": 13,
   "metadata": {},
   "outputs": [
    {
     "data": {
      "text/html": "<div>\n<style scoped>\n    .dataframe tbody tr th:only-of-type {\n        vertical-align: middle;\n    }\n\n    .dataframe tbody tr th {\n        vertical-align: top;\n    }\n\n    .dataframe thead th {\n        text-align: right;\n    }\n</style>\n<table border=\"1\" class=\"dataframe\">\n  <thead>\n    <tr style=\"text-align: right;\">\n      <th></th>\n      <th>SEQN</th>\n      <th>SDDSRVYR</th>\n      <th>RIDSTATR</th>\n      <th>RIDEXMON</th>\n      <th>RIAGENDR</th>\n      <th>RIDAGEYR</th>\n      <th>RIDAGEMN</th>\n      <th>RIDAGEEX</th>\n      <th>RIDRETH1</th>\n      <th>RIDRETH2</th>\n      <th>...</th>\n      <th>WTIREP43</th>\n      <th>WTIREP44</th>\n      <th>WTIREP45</th>\n      <th>WTIREP46</th>\n      <th>WTIREP47</th>\n      <th>WTIREP48</th>\n      <th>WTIREP49</th>\n      <th>WTIREP50</th>\n      <th>WTIREP51</th>\n      <th>WTIREP52</th>\n    </tr>\n  </thead>\n  <tbody>\n    <tr>\n      <th>0</th>\n      <td>1</td>\n      <td>1.0</td>\n      <td>Exam</td>\n      <td>2.0</td>\n      <td>Female</td>\n      <td>2.0</td>\n      <td>29.0</td>\n      <td>31.0</td>\n      <td>Non-Hispanic Black</td>\n      <td>2.0</td>\n      <td>...</td>\n      <td>10094.017100</td>\n      <td>9912.461855</td>\n      <td>9727.078709</td>\n      <td>10041.524113</td>\n      <td>9953.955984</td>\n      <td>9857.381983</td>\n      <td>9865.152486</td>\n      <td>10327.992682</td>\n      <td>9809.165049</td>\n      <td>10323.315747</td>\n    </tr>\n    <tr>\n      <th>1</th>\n      <td>2</td>\n      <td>1.0</td>\n      <td>Both</td>\n      <td>2.0</td>\n      <td>Male</td>\n      <td>77.0</td>\n      <td>926.0</td>\n      <td>926.0</td>\n      <td>Non-Hispanic White</td>\n      <td>1.0</td>\n      <td>...</td>\n      <td>27186.728682</td>\n      <td>27324.345051</td>\n      <td>28099.663528</td>\n      <td>27757.066921</td>\n      <td>28049.286048</td>\n      <td>26716.602006</td>\n      <td>26877.704909</td>\n      <td>27268.025234</td>\n      <td>27406.383620</td>\n      <td>26984.812909</td>\n    </tr>\n    <tr>\n      <th>2</th>\n      <td>3</td>\n      <td>1.0</td>\n      <td>Exam</td>\n      <td>1.0</td>\n      <td>Female</td>\n      <td>95.0</td>\n      <td>125.0</td>\n      <td>126.0</td>\n      <td>Non-Hispanic White</td>\n      <td>1.0</td>\n      <td>...</td>\n      <td>43993.193099</td>\n      <td>44075.386428</td>\n      <td>46642.563799</td>\n      <td>44967.681579</td>\n      <td>44572.482010</td>\n      <td>44087.945688</td>\n      <td>44831.370881</td>\n      <td>44480.987235</td>\n      <td>45389.112766</td>\n      <td>43781.905637</td>\n    </tr>\n    <tr>\n      <th>3</th>\n      <td>4</td>\n      <td>1.0</td>\n      <td>Both</td>\n      <td>2.0</td>\n      <td>Male</td>\n      <td>1.0</td>\n      <td>22.0</td>\n      <td>23.0</td>\n      <td>Non-Hispanic Black</td>\n      <td>2.0</td>\n      <td>...</td>\n      <td>10702.307249</td>\n      <td>10531.444441</td>\n      <td>10346.119327</td>\n      <td>10636.063039</td>\n      <td>0.000000</td>\n      <td>10533.108939</td>\n      <td>10654.749584</td>\n      <td>10851.024385</td>\n      <td>10564.981435</td>\n      <td>11012.529729</td>\n    </tr>\n    <tr>\n      <th>4</th>\n      <td>5</td>\n      <td>1.0</td>\n      <td>Both</td>\n      <td>2.0</td>\n      <td>Male</td>\n      <td>49.0</td>\n      <td>597.0</td>\n      <td>597.0</td>\n      <td>Non-Hispanic White</td>\n      <td>1.0</td>\n      <td>...</td>\n      <td>93164.782430</td>\n      <td>92119.608772</td>\n      <td>95388.490406</td>\n      <td>94131.383538</td>\n      <td>95297.809952</td>\n      <td>91325.082461</td>\n      <td>91640.586117</td>\n      <td>92817.926915</td>\n      <td>94282.855382</td>\n      <td>91993.251203</td>\n    </tr>\n  </tbody>\n</table>\n<p>5 rows × 144 columns</p>\n</div>",
      "text/plain": "   SEQN  SDDSRVYR RIDSTATR  RIDEXMON RIAGENDR  RIDAGEYR  RIDAGEMN  RIDAGEEX  \\\n0     1       1.0   Exam         2.0   Female       2.0      29.0      31.0   \n1     2       1.0   Both         2.0     Male      77.0     926.0     926.0   \n2     3       1.0     Exam       1.0   Female      95.0     125.0     126.0   \n3     4       1.0     Both       2.0     Male       1.0      22.0      23.0   \n4     5       1.0    Both        2.0     Male      49.0     597.0     597.0   \n\n               RIDRETH1  RIDRETH2  ...      WTIREP43      WTIREP44  \\\n0    Non-Hispanic Black       2.0  ...  10094.017100   9912.461855   \n1    Non-Hispanic White       1.0  ...  27186.728682  27324.345051   \n2    Non-Hispanic White       1.0  ...  43993.193099  44075.386428   \n3    Non-Hispanic Black       2.0  ...  10702.307249  10531.444441   \n4    Non-Hispanic White       1.0  ...  93164.782430  92119.608772   \n\n       WTIREP45      WTIREP46      WTIREP47      WTIREP48      WTIREP49  \\\n0   9727.078709  10041.524113   9953.955984   9857.381983   9865.152486   \n1  28099.663528  27757.066921  28049.286048  26716.602006  26877.704909   \n2  46642.563799  44967.681579  44572.482010  44087.945688  44831.370881   \n3  10346.119327  10636.063039      0.000000  10533.108939  10654.749584   \n4  95388.490406  94131.383538  95297.809952  91325.082461  91640.586117   \n\n       WTIREP50      WTIREP51      WTIREP52  \n0  10327.992682   9809.165049  10323.315747  \n1  27268.025234  27406.383620  26984.812909  \n2  44480.987235  45389.112766  43781.905637  \n3  10851.024385  10564.981435  11012.529729  \n4  92817.926915  94282.855382  91993.251203  \n\n[5 rows x 144 columns]"
     },
     "execution_count": 13,
     "metadata": {},
     "output_type": "execute_result"
    }
   ],
   "source": [
    "demo.head()"
   ]
  },
  {
   "cell_type": "code",
   "execution_count": 20,
   "metadata": {},
   "outputs": [
    {
     "data": {
      "text/html": "<div>\n<style scoped>\n    .dataframe tbody tr th:only-of-type {\n        vertical-align: middle;\n    }\n\n    .dataframe tbody tr th {\n        vertical-align: top;\n    }\n\n    .dataframe thead th {\n        text-align: right;\n    }\n</style>\n<table border=\"1\" class=\"dataframe\">\n  <thead>\n    <tr style=\"text-align: right;\">\n      <th></th>\n      <th>SEQN</th>\n      <th>SDDSRVYR</th>\n      <th>RIDSTATR</th>\n      <th>RIDEXMON</th>\n      <th>RIAGENDR</th>\n      <th>RIDAGEYR</th>\n      <th>RIDAGEMN</th>\n      <th>RIDAGEEX</th>\n      <th>RIDRETH1</th>\n      <th>RIDRETH2</th>\n      <th>...</th>\n      <th>WTIREP43</th>\n      <th>WTIREP44</th>\n      <th>WTIREP45</th>\n      <th>WTIREP46</th>\n      <th>WTIREP47</th>\n      <th>WTIREP48</th>\n      <th>WTIREP49</th>\n      <th>WTIREP50</th>\n      <th>WTIREP51</th>\n      <th>WTIREP52</th>\n    </tr>\n  </thead>\n  <tbody>\n    <tr>\n      <th>0</th>\n      <td>1</td>\n      <td>1.0</td>\n      <td>Exam</td>\n      <td>2.0</td>\n      <td>Female</td>\n      <td>2.0</td>\n      <td>29.0</td>\n      <td>31.0</td>\n      <td>Non-Hispanic Black</td>\n      <td>2.0</td>\n      <td>...</td>\n      <td>10094.017100</td>\n      <td>9912.461855</td>\n      <td>9727.078709</td>\n      <td>10041.524113</td>\n      <td>9953.955984</td>\n      <td>9857.381983</td>\n      <td>9865.152486</td>\n      <td>10327.992682</td>\n      <td>9809.165049</td>\n      <td>10323.315747</td>\n    </tr>\n    <tr>\n      <th>1</th>\n      <td>2</td>\n      <td>1.0</td>\n      <td>Both</td>\n      <td>2.0</td>\n      <td>Male</td>\n      <td>77.0</td>\n      <td>926.0</td>\n      <td>926.0</td>\n      <td>Non-Hispanic White</td>\n      <td>1.0</td>\n      <td>...</td>\n      <td>27186.728682</td>\n      <td>27324.345051</td>\n      <td>28099.663528</td>\n      <td>27757.066921</td>\n      <td>28049.286048</td>\n      <td>26716.602006</td>\n      <td>26877.704909</td>\n      <td>27268.025234</td>\n      <td>27406.383620</td>\n      <td>26984.812909</td>\n    </tr>\n    <tr>\n      <th>2</th>\n      <td>3</td>\n      <td>1.0</td>\n      <td>Exam</td>\n      <td>1.0</td>\n      <td>Female</td>\n      <td>95.0</td>\n      <td>125.0</td>\n      <td>126.0</td>\n      <td>Non-Hispanic White</td>\n      <td>1.0</td>\n      <td>...</td>\n      <td>43993.193099</td>\n      <td>44075.386428</td>\n      <td>46642.563799</td>\n      <td>44967.681579</td>\n      <td>44572.482010</td>\n      <td>44087.945688</td>\n      <td>44831.370881</td>\n      <td>44480.987235</td>\n      <td>45389.112766</td>\n      <td>43781.905637</td>\n    </tr>\n    <tr>\n      <th>3</th>\n      <td>4</td>\n      <td>1.0</td>\n      <td>Both</td>\n      <td>2.0</td>\n      <td>Male</td>\n      <td>1.0</td>\n      <td>22.0</td>\n      <td>23.0</td>\n      <td>Non-Hispanic Black</td>\n      <td>2.0</td>\n      <td>...</td>\n      <td>10702.307249</td>\n      <td>10531.444441</td>\n      <td>10346.119327</td>\n      <td>10636.063039</td>\n      <td>0.000000</td>\n      <td>10533.108939</td>\n      <td>10654.749584</td>\n      <td>10851.024385</td>\n      <td>10564.981435</td>\n      <td>11012.529729</td>\n    </tr>\n    <tr>\n      <th>4</th>\n      <td>5</td>\n      <td>1.0</td>\n      <td>Both</td>\n      <td>2.0</td>\n      <td>Male</td>\n      <td>49.0</td>\n      <td>597.0</td>\n      <td>597.0</td>\n      <td>Non-Hispanic White</td>\n      <td>1.0</td>\n      <td>...</td>\n      <td>93164.782430</td>\n      <td>92119.608772</td>\n      <td>95388.490406</td>\n      <td>94131.383538</td>\n      <td>95297.809952</td>\n      <td>91325.082461</td>\n      <td>91640.586117</td>\n      <td>92817.926915</td>\n      <td>94282.855382</td>\n      <td>91993.251203</td>\n    </tr>\n  </tbody>\n</table>\n<p>5 rows × 144 columns</p>\n</div>",
      "text/plain": "   SEQN  SDDSRVYR RIDSTATR  RIDEXMON RIAGENDR  RIDAGEYR  RIDAGEMN  RIDAGEEX  \\\n0     1       1.0   Exam         2.0   Female       2.0      29.0      31.0   \n1     2       1.0   Both         2.0     Male      77.0     926.0     926.0   \n2     3       1.0     Exam       1.0   Female      95.0     125.0     126.0   \n3     4       1.0     Both       2.0     Male       1.0      22.0      23.0   \n4     5       1.0    Both        2.0     Male      49.0     597.0     597.0   \n\n               RIDRETH1  RIDRETH2  ...      WTIREP43      WTIREP44  \\\n0    Non-Hispanic Black       2.0  ...  10094.017100   9912.461855   \n1    Non-Hispanic White       1.0  ...  27186.728682  27324.345051   \n2    Non-Hispanic White       1.0  ...  43993.193099  44075.386428   \n3    Non-Hispanic Black       2.0  ...  10702.307249  10531.444441   \n4    Non-Hispanic White       1.0  ...  93164.782430  92119.608772   \n\n       WTIREP45      WTIREP46      WTIREP47      WTIREP48      WTIREP49  \\\n0   9727.078709  10041.524113   9953.955984   9857.381983   9865.152486   \n1  28099.663528  27757.066921  28049.286048  26716.602006  26877.704909   \n2  46642.563799  44967.681579  44572.482010  44087.945688  44831.370881   \n3  10346.119327  10636.063039      0.000000  10533.108939  10654.749584   \n4  95388.490406  94131.383538  95297.809952  91325.082461  91640.586117   \n\n       WTIREP50      WTIREP51      WTIREP52  \n0  10327.992682   9809.165049  10323.315747  \n1  27268.025234  27406.383620  26984.812909  \n2  44480.987235  45389.112766  43781.905637  \n3  10851.024385  10564.981435  11012.529729  \n4  92817.926915  94282.855382  91993.251203  \n\n[5 rows x 144 columns]"
     },
     "execution_count": 20,
     "metadata": {},
     "output_type": "execute_result"
    }
   ],
   "source": [
    "demo.loc[:,].head()"
   ]
  },
  {
   "cell_type": "code",
   "execution_count": null,
   "metadata": {},
   "outputs": [],
   "source": []
  },
  {
   "cell_type": "code",
   "execution_count": null,
   "metadata": {},
   "outputs": [],
   "source": []
  }
 ]
}