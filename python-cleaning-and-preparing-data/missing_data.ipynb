{
 "nbformat": 4,
 "nbformat_minor": 2,
 "metadata": {
  "language_info": {
   "name": "python",
   "codemirror_mode": {
    "name": "ipython",
    "version": 3
   },
   "version": "3.7.2-final"
  },
  "orig_nbformat": 2,
  "file_extension": ".py",
  "mimetype": "text/x-python",
  "name": "python",
  "npconvert_exporter": "python",
  "pygments_lexer": "ipython3",
  "version": 3,
  "kernelspec": {
   "name": "python37264bit5b55e99ae245479bafebc85bc55a8877",
   "display_name": "Python 3.7.2 64-bit"
  }
 },
 "cells": [
  {
   "cell_type": "markdown",
   "metadata": {},
   "source": [
    "## Dealing with missing data like pro\n",
    "\n",
    "### This city cold and empty\n",
    "##### Uuh I'm blinded by the lights\n",
    "##### No, I can't sleep till I feel your touch\n",
    "##### Uuh I'm drowing by the night"
   ]
  },
  {
   "cell_type": "code",
   "execution_count": 5,
   "metadata": {},
   "outputs": [],
   "source": [
    "import pandas as pd\n",
    "import numpy as np\n",
    "import os"
   ]
  },
  {
   "cell_type": "code",
   "execution_count": 56,
   "metadata": {},
   "outputs": [],
   "source": [
    "# demo = pd.read_csv('Demographics.csv')\n",
    "# bmx = pd.read_csv(os.path.join('s1v4', 'BodyMeasures.csv'))\n",
    "demo = pd.read_csv(os.path.join('s2v4','Demographics.csv'))\n",
    "bmx = pd.read_csv(os.path.join('s2v4', 'BodyMeasures.csv'))"
   ]
  },
  {
   "cell_type": "code",
   "execution_count": 7,
   "metadata": {},
   "outputs": [],
   "source": [
    "valid_entries = demo.count()"
   ]
  },
  {
   "cell_type": "code",
   "execution_count": 57,
   "metadata": {},
   "outputs": [
    {
     "data": {
      "text/plain": "SEQN          0\nSDDSRVYR    211\nRIDSTATR    209\nRIDEXMON    920\nRIAGENDR    211\ndtype: int64"
     },
     "execution_count": 57,
     "metadata": {},
     "output_type": "execute_result"
    }
   ],
   "source": [
    "total_rows = len(demo)\n",
    "missing_data = total_rows - valid_entries\n",
    "\n",
    "missing_data.head()"
   ]
  },
  {
   "cell_type": "code",
   "execution_count": 17,
   "metadata": {},
   "outputs": [
    {
     "data": {
      "text/plain": "SEQN        0.000000\nSDDSRVYR    1.993199\nRIDSTATR    1.974306\nRIDEXMON    8.690724\nRIAGENDR    1.993199\ndtype: float64"
     },
     "execution_count": 17,
     "metadata": {},
     "output_type": "execute_result"
    }
   ],
   "source": [
    "missing_percentage = missing_data/total_rows * 100\n",
    "missing_percentage.head()"
   ]
  },
  {
   "cell_type": "code",
   "execution_count": 32,
   "metadata": {},
   "outputs": [
    {
     "data": {
      "text/plain": "0    8.333333\n1    6.944444\n2    4.861111\n3    8.333333\n4    5.555556\ndtype: float64"
     },
     "execution_count": 32,
     "metadata": {},
     "output_type": "execute_result"
    }
   ],
   "source": [
    "missing_data = np.sum(demo.isnull(), axis=1)\n",
    "num_cols = len(demo.columns)\n",
    "missing_percentage = missing_data / num_cols * 100\n",
    "missing_percentage.head()"
   ]
  },
  {
   "cell_type": "code",
   "execution_count": 58,
   "metadata": {},
   "outputs": [
    {
     "name": "stdout",
     "output_type": "stream",
     "text": "Missing data, %: 67.27%\n"
    }
   ],
   "source": [
    "perc = (len(demo) - demo['DMDSCHOL'].count()) / len(demo) * 100\n",
    "print(f'Missing data, %: {perc:.2f}%')"
   ]
  },
  {
   "cell_type": "code",
   "execution_count": 59,
   "metadata": {},
   "outputs": [
    {
     "name": "stdout",
     "output_type": "stream",
     "text": "0 2\n"
    }
   ],
   "source": [
    "num_refused = sum(demo['DMDSCHOL'] == 7)\n",
    "num_dontknow = sum(demo['DMDSCHOL'] == 9)\n",
    "\n",
    "print(num_refused, num_dontknow)"
   ]
  },
  {
   "cell_type": "code",
   "execution_count": 65,
   "metadata": {},
   "outputs": [
    {
     "name": "stdout",
     "output_type": "stream",
     "text": "[nan  1.  3.  2.]\n"
    }
   ],
   "source": [
    "unkown_ind = demo.loc[:, 'DMDSCHOL'] > 3\n",
    "demo.loc[unkown_ind, 'DMDSCHOL'] = np.nan\n",
    "\n",
    "print(demo['DMDSCHOL'].unique())\n"
   ]
  },
  {
   "cell_type": "code",
   "execution_count": null,
   "metadata": {},
   "outputs": [],
   "source": []
  },
  {
   "cell_type": "code",
   "execution_count": null,
   "metadata": {},
   "outputs": [],
   "source": []
  }
 ]
}