{
 "nbformat": 4,
 "nbformat_minor": 2,
 "metadata": {
  "language_info": {
   "name": "python",
   "codemirror_mode": {
    "name": "ipython",
    "version": 3
   },
   "version": "3.7.2-final"
  },
  "orig_nbformat": 2,
  "file_extension": ".py",
  "mimetype": "text/x-python",
  "name": "python",
  "npconvert_exporter": "python",
  "pygments_lexer": "ipython3",
  "version": 3,
  "kernelspec": {
   "name": "python37264bit5b55e99ae245479bafebc85bc55a8877",
   "display_name": "Python 3.7.2 64-bit"
  }
 },
 "cells": [
  {
   "cell_type": "markdown",
   "metadata": {},
   "source": [
    "### Remove duplicates from our data like an animal!"
   ]
  },
  {
   "cell_type": "code",
   "execution_count": 64,
   "metadata": {},
   "outputs": [],
   "source": [
    "import pandas as pd\n",
    "import numpy as np\n",
    "import itertools\n",
    "import os"
   ]
  },
  {
   "cell_type": "code",
   "execution_count": 88,
   "metadata": {},
   "outputs": [],
   "source": [
    "demo = pd.read_csv(os.path.join('s2v4','Demographics.csv'))\n",
    "# bmx = pd.read_csv(os.path.join('s2v4', 'BodyMeasures.csv'))\n",
    "bmx = pd.read_csv('BodyMeasures.csv')\n",
    "ocq = pd.read_csv(os.path.join('s2v4', 'Occupation.csv'))"
   ]
  },
  {
   "cell_type": "code",
   "execution_count": 66,
   "metadata": {},
   "outputs": [],
   "source": [
    "demo.sort_values('SEQN', inplace=True)\n"
   ]
  },
  {
   "cell_type": "code",
   "execution_count": 67,
   "metadata": {},
   "outputs": [],
   "source": [
    "i = demo['SEQN'].duplicated(keep=False)"
   ]
  },
  {
   "cell_type": "code",
   "execution_count": 68,
   "metadata": {},
   "outputs": [
    {
     "name": "stdout",
     "output_type": "stream",
     "text": "Duplicated rows: 1213\n"
    },
    {
     "data": {
      "text/html": "<div>\n<style scoped>\n    .dataframe tbody tr th:only-of-type {\n        vertical-align: middle;\n    }\n\n    .dataframe tbody tr th {\n        vertical-align: top;\n    }\n\n    .dataframe thead th {\n        text-align: right;\n    }\n</style>\n<table border=\"1\" class=\"dataframe\">\n  <thead>\n    <tr style=\"text-align: right;\">\n      <th></th>\n      <th>SEQN</th>\n      <th>SDDSRVYR</th>\n      <th>RIDSTATR</th>\n      <th>RIDEXMON</th>\n      <th>RIAGENDR</th>\n      <th>RIDAGEYR</th>\n      <th>RIDAGEMN</th>\n      <th>RIDAGEEX</th>\n      <th>RIDRETH1</th>\n      <th>RIDRETH2</th>\n      <th>...</th>\n      <th>WTIREP43</th>\n      <th>WTIREP44</th>\n      <th>WTIREP45</th>\n      <th>WTIREP46</th>\n      <th>WTIREP47</th>\n      <th>WTIREP48</th>\n      <th>WTIREP49</th>\n      <th>WTIREP50</th>\n      <th>WTIREP51</th>\n      <th>WTIREP52</th>\n    </tr>\n  </thead>\n  <tbody>\n    <tr>\n      <th>10491</th>\n      <td>15</td>\n      <td>1.0</td>\n      <td>exam</td>\n      <td>1.0</td>\n      <td>Female</td>\n      <td>38.0</td>\n      <td>459.0</td>\n      <td>460.0</td>\n      <td>Non-Hispanic White</td>\n      <td>1.0</td>\n      <td>...</td>\n      <td>110651.142444</td>\n      <td>109666.993353</td>\n      <td>113803.429690</td>\n      <td>33314.865599</td>\n      <td>113109.089839</td>\n      <td>108722.224537</td>\n      <td>109264.251804</td>\n      <td>110186.143135</td>\n      <td>112750.496899</td>\n      <td>110008.647960</td>\n    </tr>\n    <tr>\n      <th>14</th>\n      <td>15</td>\n      <td>1.0</td>\n      <td>exam</td>\n      <td>1.0</td>\n      <td>Female</td>\n      <td>38.0</td>\n      <td>459.0</td>\n      <td>460.0</td>\n      <td>Non-Hispanic White</td>\n      <td>1.0</td>\n      <td>...</td>\n      <td>110651.142444</td>\n      <td>109666.993353</td>\n      <td>113803.429690</td>\n      <td>112123.984382</td>\n      <td>113109.089839</td>\n      <td>108722.224537</td>\n      <td>109264.251804</td>\n      <td>110186.143135</td>\n      <td>112750.496899</td>\n      <td>110008.647960</td>\n    </tr>\n    <tr>\n      <th>10102</th>\n      <td>42</td>\n      <td>1.0</td>\n      <td>Both</td>\n      <td>2.0</td>\n      <td>Female</td>\n      <td>18.0</td>\n      <td>223.0</td>\n      <td>224.0</td>\n      <td>Non-Hispanic Black</td>\n      <td>2.0</td>\n      <td>...</td>\n      <td>9118.858665</td>\n      <td>9139.612368</td>\n      <td>8948.540469</td>\n      <td>9083.673929</td>\n      <td>0.000000</td>\n      <td>9095.898010</td>\n      <td>9290.163552</td>\n      <td>9459.795274</td>\n      <td>9312.800370</td>\n      <td>9518.027784</td>\n    </tr>\n    <tr>\n      <th>9991</th>\n      <td>42</td>\n      <td>1.0</td>\n      <td>Both</td>\n      <td>2.0</td>\n      <td>Female</td>\n      <td>18.0</td>\n      <td>223.0</td>\n      <td>224.0</td>\n      <td>Non-Hispanic Black</td>\n      <td>2.0</td>\n      <td>...</td>\n      <td>9118.858665</td>\n      <td>9139.612368</td>\n      <td>8948.540469</td>\n      <td>9083.673929</td>\n      <td>0.000000</td>\n      <td>9095.898010</td>\n      <td>9290.163552</td>\n      <td>9459.795274</td>\n      <td>9312.800370</td>\n      <td>9518.027784</td>\n    </tr>\n    <tr>\n      <th>41</th>\n      <td>42</td>\n      <td>1.0</td>\n      <td>Both</td>\n      <td>2.0</td>\n      <td>Female</td>\n      <td>18.0</td>\n      <td>223.0</td>\n      <td>224.0</td>\n      <td>Non-Hispanic Black</td>\n      <td>2.0</td>\n      <td>...</td>\n      <td>9118.858665</td>\n      <td>9139.612368</td>\n      <td>8948.540469</td>\n      <td>9083.673929</td>\n      <td>0.000000</td>\n      <td>9095.898010</td>\n      <td>9290.163552</td>\n      <td>9459.795274</td>\n      <td>9312.800370</td>\n      <td>9518.027784</td>\n    </tr>\n  </tbody>\n</table>\n<p>5 rows × 144 columns</p>\n</div>",
      "text/plain": "       SEQN  SDDSRVYR RIDSTATR  RIDEXMON RIAGENDR  RIDAGEYR  RIDAGEMN  \\\n10491    15       1.0     exam       1.0   Female      38.0     459.0   \n14       15       1.0     exam       1.0   Female      38.0     459.0   \n10102    42       1.0     Both       2.0   Female      18.0     223.0   \n9991     42       1.0     Both       2.0   Female      18.0     223.0   \n41       42       1.0     Both       2.0   Female      18.0     223.0   \n\n       RIDAGEEX            RIDRETH1  RIDRETH2  ...       WTIREP43  \\\n10491     460.0  Non-Hispanic White       1.0  ...  110651.142444   \n14        460.0  Non-Hispanic White       1.0  ...  110651.142444   \n10102     224.0  Non-Hispanic Black       2.0  ...    9118.858665   \n9991      224.0  Non-Hispanic Black       2.0  ...    9118.858665   \n41        224.0  Non-Hispanic Black       2.0  ...    9118.858665   \n\n            WTIREP44       WTIREP45       WTIREP46       WTIREP47  \\\n10491  109666.993353  113803.429690   33314.865599  113109.089839   \n14     109666.993353  113803.429690  112123.984382  113109.089839   \n10102    9139.612368    8948.540469    9083.673929       0.000000   \n9991     9139.612368    8948.540469    9083.673929       0.000000   \n41       9139.612368    8948.540469    9083.673929       0.000000   \n\n            WTIREP48       WTIREP49       WTIREP50       WTIREP51  \\\n10491  108722.224537  109264.251804  110186.143135  112750.496899   \n14     108722.224537  109264.251804  110186.143135  112750.496899   \n10102    9095.898010    9290.163552    9459.795274    9312.800370   \n9991     9095.898010    9290.163552    9459.795274    9312.800370   \n41       9095.898010    9290.163552    9459.795274    9312.800370   \n\n            WTIREP52  \n10491  110008.647960  \n14     110008.647960  \n10102    9518.027784  \n9991     9518.027784  \n41       9518.027784  \n\n[5 rows x 144 columns]"
     },
     "execution_count": 68,
     "metadata": {},
     "output_type": "execute_result"
    }
   ],
   "source": [
    "print(f'Duplicated rows: {len(demo.loc[i, :])}')\n",
    "demo.loc[i, :].head()"
   ]
  },
  {
   "cell_type": "code",
   "execution_count": 69,
   "metadata": {},
   "outputs": [],
   "source": [
    "demo.drop_duplicates(inplace=True)"
   ]
  },
  {
   "cell_type": "code",
   "execution_count": 70,
   "metadata": {},
   "outputs": [
    {
     "name": "stdout",
     "output_type": "stream",
     "text": "Duplicated rows: 814\n"
    }
   ],
   "source": [
    "i = demo['SEQN'].duplicated(keep=False)\n",
    "print(f'Duplicated rows: {len(demo.loc[i, :])}')\n"
   ]
  },
  {
   "cell_type": "code",
   "execution_count": 71,
   "metadata": {},
   "outputs": [],
   "source": [
    "dup_id = demo.loc[i, 'SEQN'].unique()\n"
   ]
  },
  {
   "cell_type": "code",
   "execution_count": 72,
   "metadata": {},
   "outputs": [],
   "source": [
    "for id in dup_id:\n",
    "    dup_rows = np.where(demo['SEQN'] == id)[0]\n",
    "    for (row1, row2) in itertools.product(dup_rows, repeat=2):\n",
    "        demo.iloc[row1,:] = demo.iloc[row1,:].fillna(demo.iloc[row2,:], axis=0)"
   ]
  },
  {
   "cell_type": "code",
   "execution_count": 73,
   "metadata": {},
   "outputs": [
    {
     "name": "stdout",
     "output_type": "stream",
     "text": "Duplicated rows: 416\n"
    },
    {
     "data": {
      "text/html": "<div>\n<style scoped>\n    .dataframe tbody tr th:only-of-type {\n        vertical-align: middle;\n    }\n\n    .dataframe tbody tr th {\n        vertical-align: top;\n    }\n\n    .dataframe thead th {\n        text-align: right;\n    }\n</style>\n<table border=\"1\" class=\"dataframe\">\n  <thead>\n    <tr style=\"text-align: right;\">\n      <th></th>\n      <th>SEQN</th>\n      <th>SDDSRVYR</th>\n      <th>RIDSTATR</th>\n      <th>RIDEXMON</th>\n      <th>RIAGENDR</th>\n      <th>RIDAGEYR</th>\n      <th>RIDAGEMN</th>\n      <th>RIDAGEEX</th>\n      <th>RIDRETH1</th>\n      <th>RIDRETH2</th>\n      <th>...</th>\n      <th>WTIREP43</th>\n      <th>WTIREP44</th>\n      <th>WTIREP45</th>\n      <th>WTIREP46</th>\n      <th>WTIREP47</th>\n      <th>WTIREP48</th>\n      <th>WTIREP49</th>\n      <th>WTIREP50</th>\n      <th>WTIREP51</th>\n      <th>WTIREP52</th>\n    </tr>\n  </thead>\n  <tbody>\n    <tr>\n      <th>10491</th>\n      <td>15</td>\n      <td>1.0</td>\n      <td>exam</td>\n      <td>1.0</td>\n      <td>Female</td>\n      <td>38.0</td>\n      <td>459.0</td>\n      <td>460.0</td>\n      <td>Non-Hispanic White</td>\n      <td>1.0</td>\n      <td>...</td>\n      <td>110651.142444</td>\n      <td>109666.993353</td>\n      <td>113803.429690</td>\n      <td>33314.865599</td>\n      <td>113109.089839</td>\n      <td>108722.224537</td>\n      <td>109264.251804</td>\n      <td>110186.143135</td>\n      <td>112750.496899</td>\n      <td>110008.647960</td>\n    </tr>\n    <tr>\n      <th>14</th>\n      <td>15</td>\n      <td>1.0</td>\n      <td>exam</td>\n      <td>1.0</td>\n      <td>Female</td>\n      <td>38.0</td>\n      <td>459.0</td>\n      <td>460.0</td>\n      <td>Non-Hispanic White</td>\n      <td>1.0</td>\n      <td>...</td>\n      <td>110651.142444</td>\n      <td>109666.993353</td>\n      <td>113803.429690</td>\n      <td>112123.984382</td>\n      <td>113109.089839</td>\n      <td>108722.224537</td>\n      <td>109264.251804</td>\n      <td>110186.143135</td>\n      <td>112750.496899</td>\n      <td>110008.647960</td>\n    </tr>\n    <tr>\n      <th>59</th>\n      <td>60</td>\n      <td>1.0</td>\n      <td>Exam</td>\n      <td>2.0</td>\n      <td>Male</td>\n      <td>5.0</td>\n      <td>70.0</td>\n      <td>71.0</td>\n      <td>Non-Hispanic White</td>\n      <td>1.0</td>\n      <td>...</td>\n      <td>41858.569852</td>\n      <td>41576.241533</td>\n      <td>43040.796615</td>\n      <td>43167.384386</td>\n      <td>42922.779884</td>\n      <td>41775.622676</td>\n      <td>0.000000</td>\n      <td>42091.705803</td>\n      <td>42039.843678</td>\n      <td>41556.080118</td>\n    </tr>\n    <tr>\n      <th>10392</th>\n      <td>60</td>\n      <td>1.0</td>\n      <td>Exam</td>\n      <td>1.0</td>\n      <td>Male</td>\n      <td>5.0</td>\n      <td>70.0</td>\n      <td>71.0</td>\n      <td>Non-Hispanic White</td>\n      <td>1.0</td>\n      <td>...</td>\n      <td>41858.569852</td>\n      <td>41576.241533</td>\n      <td>43040.796615</td>\n      <td>12698.465159</td>\n      <td>20321.432353</td>\n      <td>41775.622676</td>\n      <td>0.000000</td>\n      <td>42091.705803</td>\n      <td>42039.843678</td>\n      <td>41556.080118</td>\n    </tr>\n    <tr>\n      <th>10485</th>\n      <td>83</td>\n      <td>1.0</td>\n      <td>exam</td>\n      <td>2.0</td>\n      <td>Female</td>\n      <td>60.0</td>\n      <td>731.0</td>\n      <td>731.0</td>\n      <td>Non-Hispanic Black</td>\n      <td>4.0</td>\n      <td>...</td>\n      <td>10840.799501</td>\n      <td>10774.881528</td>\n      <td>10553.677856</td>\n      <td>10816.699831</td>\n      <td>10998.350416</td>\n      <td>10902.784484</td>\n      <td>10863.252191</td>\n      <td>10954.274380</td>\n      <td>10864.016537</td>\n      <td>0.000000</td>\n    </tr>\n  </tbody>\n</table>\n<p>5 rows × 144 columns</p>\n</div>",
      "text/plain": "       SEQN  SDDSRVYR RIDSTATR  RIDEXMON RIAGENDR  RIDAGEYR  RIDAGEMN  \\\n10491    15       1.0     exam       1.0   Female      38.0     459.0   \n14       15       1.0     exam       1.0   Female      38.0     459.0   \n59       60       1.0     Exam       2.0     Male       5.0      70.0   \n10392    60       1.0     Exam       1.0     Male       5.0      70.0   \n10485    83       1.0     exam       2.0   Female      60.0     731.0   \n\n       RIDAGEEX            RIDRETH1  RIDRETH2  ...       WTIREP43  \\\n10491     460.0  Non-Hispanic White       1.0  ...  110651.142444   \n14        460.0  Non-Hispanic White       1.0  ...  110651.142444   \n59         71.0  Non-Hispanic White       1.0  ...   41858.569852   \n10392      71.0  Non-Hispanic White       1.0  ...   41858.569852   \n10485     731.0  Non-Hispanic Black       4.0  ...   10840.799501   \n\n            WTIREP44       WTIREP45       WTIREP46       WTIREP47  \\\n10491  109666.993353  113803.429690   33314.865599  113109.089839   \n14     109666.993353  113803.429690  112123.984382  113109.089839   \n59      41576.241533   43040.796615   43167.384386   42922.779884   \n10392   41576.241533   43040.796615   12698.465159   20321.432353   \n10485   10774.881528   10553.677856   10816.699831   10998.350416   \n\n            WTIREP48       WTIREP49       WTIREP50       WTIREP51  \\\n10491  108722.224537  109264.251804  110186.143135  112750.496899   \n14     108722.224537  109264.251804  110186.143135  112750.496899   \n59      41775.622676       0.000000   42091.705803   42039.843678   \n10392   41775.622676       0.000000   42091.705803   42039.843678   \n10485   10902.784484   10863.252191   10954.274380   10864.016537   \n\n            WTIREP52  \n10491  110008.647960  \n14     110008.647960  \n59      41556.080118  \n10392   41556.080118  \n10485       0.000000  \n\n[5 rows x 144 columns]"
     },
     "execution_count": 73,
     "metadata": {},
     "output_type": "execute_result"
    }
   ],
   "source": [
    "demo.drop_duplicates(inplace=True)\n",
    "i = demo['SEQN'].duplicated(keep=False)\n",
    "print(f'Duplicated rows: {len(demo.loc[i,:])}')\n",
    "demo.loc[i,:].head()"
   ]
  },
  {
   "cell_type": "code",
   "execution_count": 74,
   "metadata": {},
   "outputs": [],
   "source": [
    "i = demo['SEQN'].duplicated(keep=False)\n",
    "demo = demo.loc[~i,:]"
   ]
  },
  {
   "cell_type": "code",
   "execution_count": 75,
   "metadata": {},
   "outputs": [
    {
     "name": "stdout",
     "output_type": "stream",
     "text": "Duplicated rows: 0\n"
    },
    {
     "data": {
      "text/html": "<div>\n<style scoped>\n    .dataframe tbody tr th:only-of-type {\n        vertical-align: middle;\n    }\n\n    .dataframe tbody tr th {\n        vertical-align: top;\n    }\n\n    .dataframe thead th {\n        text-align: right;\n    }\n</style>\n<table border=\"1\" class=\"dataframe\">\n  <thead>\n    <tr style=\"text-align: right;\">\n      <th></th>\n      <th>SEQN</th>\n      <th>SDDSRVYR</th>\n      <th>RIDSTATR</th>\n      <th>RIDEXMON</th>\n      <th>RIAGENDR</th>\n      <th>RIDAGEYR</th>\n      <th>RIDAGEMN</th>\n      <th>RIDAGEEX</th>\n      <th>RIDRETH1</th>\n      <th>RIDRETH2</th>\n      <th>...</th>\n      <th>WTIREP43</th>\n      <th>WTIREP44</th>\n      <th>WTIREP45</th>\n      <th>WTIREP46</th>\n      <th>WTIREP47</th>\n      <th>WTIREP48</th>\n      <th>WTIREP49</th>\n      <th>WTIREP50</th>\n      <th>WTIREP51</th>\n      <th>WTIREP52</th>\n    </tr>\n  </thead>\n  <tbody>\n  </tbody>\n</table>\n<p>0 rows × 144 columns</p>\n</div>",
      "text/plain": "Empty DataFrame\nColumns: [SEQN, SDDSRVYR, RIDSTATR, RIDEXMON, RIAGENDR, RIDAGEYR, RIDAGEMN, RIDAGEEX, RIDRETH1, RIDRETH2, DMQMILIT, DMDBORN, DMDCITZN, DMDYRSUS, DMDEDUC3, DMDEDUC2, DMDEDUC, DMDSCHOL, DMDMARTL, DMDHHSIZ, INDHHINC, INDFMINC, INDFMPIR, RIDEXPRG, RIDPREG, DMDHRGND, DMDHRAGE, DMDHRBRN, DMDHREDU, DMDHRMAR, DMDHSEDU, WTINT2YR, WTINT4YR, WTMEC2YR, WTMEC4YR, SDMVPSU, SDMVSTRA, SDJ1REPN, DMAETHN, DMARACE, WTMREP01, WTMREP02, WTMREP03, WTMREP04, WTMREP05, WTMREP06, WTMREP07, WTMREP08, WTMREP09, WTMREP10, WTMREP11, WTMREP12, WTMREP13, WTMREP14, WTMREP15, WTMREP16, WTMREP17, WTMREP18, WTMREP19, WTMREP20, WTMREP21, WTMREP22, WTMREP23, WTMREP24, WTMREP25, WTMREP26, WTMREP27, WTMREP28, WTMREP29, WTMREP30, WTMREP31, WTMREP32, WTMREP33, WTMREP34, WTMREP35, WTMREP36, WTMREP37, WTMREP38, WTMREP39, WTMREP40, WTMREP41, WTMREP42, WTMREP43, WTMREP44, WTMREP45, WTMREP46, WTMREP47, WTMREP48, WTMREP49, WTMREP50, WTMREP51, WTMREP52, WTIREP01, WTIREP02, WTIREP03, WTIREP04, WTIREP05, WTIREP06, WTIREP07, WTIREP08, ...]\nIndex: []\n\n[0 rows x 144 columns]"
     },
     "execution_count": 75,
     "metadata": {},
     "output_type": "execute_result"
    }
   ],
   "source": [
    "i = demo['SEQN'].duplicated(keep=False)\n",
    "print(f'Duplicated rows: {len(demo.loc[i,:])}')\n",
    "demo.loc[i,:].head()"
   ]
  },
  {
   "cell_type": "code",
   "execution_count": 84,
   "metadata": {},
   "outputs": [
    {
     "data": {
      "text/plain": "{'SEQN'}"
     },
     "execution_count": 84,
     "metadata": {},
     "output_type": "execute_result"
    }
   ],
   "source": [
    "set(demo.columns).intersection(bmx.columns)"
   ]
  },
  {
   "cell_type": "code",
   "execution_count": 77,
   "metadata": {},
   "outputs": [],
   "source": [
    "bmx.drop('RIDAGEYR', 1, inplace=True)"
   ]
  },
  {
   "cell_type": "code",
   "execution_count": 78,
   "metadata": {},
   "outputs": [
    {
     "name": "stdout",
     "output_type": "stream",
     "text": "SEQN          int64\nSDDSRVYR    float64\nRIDSTATR     object\nRIDEXMON    float64\nRIAGENDR     object\n             ...   \nWTIREP48    float64\nWTIREP49    float64\nWTIREP50    float64\nWTIREP51    float64\nWTIREP52    float64\nLength: 144, dtype: object\n\nSEQN          int64\nBMAEXLEN    float64\nBMAEXSTS    float64\nBMAEXCMT    float64\nBMXWT       float64\nBMIWT       float64\nBMXRECUM    float64\nBMIRECUM    float64\nBMXHEAD     float64\nBMIHEAD     float64\nBMXHT       float64\nBMIHT       float64\nBMXBMI      float64\nBMXLEG      float64\nBMILEG      float64\nBMXCALF     float64\nBMICALF     float64\nBMXARML     float64\nBMIARML     float64\nBMXARMC     float64\nBMIARMC     float64\nBMXWAIST    float64\nBMIWAIST    float64\nBMXTHICR    float64\nBMITHICR    float64\nBMXTRI      float64\nBMITRI      float64\nBMXSUB      float64\nBMISUB      float64\nBMAAMP      float64\nBMAUREXT    float64\nBMAUPREL    float64\nBMAULEXT    float64\nBMAUPLEL    float64\nBMALOREX    float64\nBMALORKN    float64\nBMALLEXT    float64\nBMALLKNE    float64\ndtype: object\n"
    }
   ],
   "source": [
    "set(demo.columns).intersection(bmx.columns)\n",
    "print(demo.dtypes)\n",
    "print()\n",
    "print(bmx.dtypes)"
   ]
  },
  {
   "cell_type": "code",
   "execution_count": 81,
   "metadata": {},
   "outputs": [],
   "source": [
    "dataset = pd.merge(demo, bmx, on='SEQN', how='inner')"
   ]
  },
  {
   "cell_type": "code",
   "execution_count": 85,
   "metadata": {},
   "outputs": [],
   "source": [
    "demo.to_csv('Demographics.csv', index=False)\n",
    "bmx.to_csv('BodyMeasures.csv', index=False)\n",
    "ocq.to_csv('Occupation.csv', index=False)\n",
    "dataset.to_csv('MyDataset.csv', index=False)"
   ]
  },
  {
   "cell_type": "code",
   "execution_count": 92,
   "metadata": {},
   "outputs": [
    {
     "name": "stdout",
     "output_type": "stream",
     "text": "Duplicated rows: 884\n"
    }
   ],
   "source": [
    "io = ocq['SEQN'].duplicated(keep=False)\n",
    "print(f'Duplicated rows: {len(ocq.loc[io, :])}')"
   ]
  },
  {
   "cell_type": "code",
   "execution_count": 101,
   "metadata": {},
   "outputs": [
    {
     "name": "stdout",
     "output_type": "stream",
     "text": "Duplicated rows: 158\n"
    }
   ],
   "source": [
    "dup_ocq_id = ocq.loc[io, 'SEQN'].unique()\n",
    "\n",
    "ocq.drop_duplicates(inplace=True)\n",
    "\n",
    "io = ocq['SEQN'].duplicated(keep=False)\n",
    "print(f'Duplicated rows: {len(ocq.loc[io, :])}')\n",
    "\n",
    "for id in dup_ocq_id:\n",
    "    dup_rows = np.where(ocq['SEQN'] == id)[0]\n",
    "    for (row1, row2) in itertools.product(dup_rows, repeat=2):\n",
    "        ocq.iloc[row1,:] = ocq.iloc[row1,:].fillna(ocq.iloc[row2,:], axis=0)"
   ]
  },
  {
   "cell_type": "code",
   "execution_count": 103,
   "metadata": {},
   "outputs": [],
   "source": [
    "ocq.drop_duplicates(inplace=True)"
   ]
  },
  {
   "cell_type": "code",
   "execution_count": 104,
   "metadata": {},
   "outputs": [
    {
     "name": "stdout",
     "output_type": "stream",
     "text": "Duplicated rows: 158\n"
    }
   ],
   "source": [
    "io = ocq['SEQN'].duplicated(keep=False)\n",
    "print(f'Duplicated rows: {len(ocq.loc[io, :])}')\n"
   ]
  },
  {
   "cell_type": "code",
   "execution_count": 107,
   "metadata": {},
   "outputs": [],
   "source": [
    "io = ocq['SEQN'].duplicated(keep=False)\n",
    "ocq = ocq.loc[~io,:]\n"
   ]
  },
  {
   "cell_type": "code",
   "execution_count": 119,
   "metadata": {},
   "outputs": [
    {
     "data": {
      "text/plain": "{'SEQN'}"
     },
     "execution_count": 119,
     "metadata": {},
     "output_type": "execute_result"
    }
   ],
   "source": [
    "set(demo.columns).intersection(ocq.columns)\n"
   ]
  },
  {
   "cell_type": "code",
   "execution_count": 117,
   "metadata": {},
   "outputs": [
    {
     "ename": "KeyError",
     "evalue": "\"['RIAGENDR'] not found in axis\"",
     "output_type": "error",
     "traceback": [
      "\u001b[0;31m---------------------------------------------------------------------------\u001b[0m",
      "\u001b[0;31mKeyError\u001b[0m                                  Traceback (most recent call last)",
      "\u001b[0;32m<ipython-input-117-e4b43ab431b6>\u001b[0m in \u001b[0;36m<module>\u001b[0;34m\u001b[0m\n\u001b[0;32m----> 1\u001b[0;31m \u001b[0mocq\u001b[0m\u001b[0;34m.\u001b[0m\u001b[0mdrop\u001b[0m\u001b[0;34m(\u001b[0m\u001b[0;34m'RIAGENDR'\u001b[0m\u001b[0;34m,\u001b[0m \u001b[0;36m1\u001b[0m\u001b[0;34m,\u001b[0m \u001b[0minplace\u001b[0m\u001b[0;34m=\u001b[0m\u001b[0;32mTrue\u001b[0m\u001b[0;34m)\u001b[0m\u001b[0;34m\u001b[0m\u001b[0;34m\u001b[0m\u001b[0m\n\u001b[0m",
      "\u001b[0;32m/Library/Frameworks/Python.framework/Versions/3.7/lib/python3.7/site-packages/pandas/core/frame.py\u001b[0m in \u001b[0;36mdrop\u001b[0;34m(self, labels, axis, index, columns, level, inplace, errors)\u001b[0m\n\u001b[1;32m   4115\u001b[0m             \u001b[0mlevel\u001b[0m\u001b[0;34m=\u001b[0m\u001b[0mlevel\u001b[0m\u001b[0;34m,\u001b[0m\u001b[0;34m\u001b[0m\u001b[0;34m\u001b[0m\u001b[0m\n\u001b[1;32m   4116\u001b[0m             \u001b[0minplace\u001b[0m\u001b[0;34m=\u001b[0m\u001b[0minplace\u001b[0m\u001b[0;34m,\u001b[0m\u001b[0;34m\u001b[0m\u001b[0;34m\u001b[0m\u001b[0m\n\u001b[0;32m-> 4117\u001b[0;31m             \u001b[0merrors\u001b[0m\u001b[0;34m=\u001b[0m\u001b[0merrors\u001b[0m\u001b[0;34m,\u001b[0m\u001b[0;34m\u001b[0m\u001b[0;34m\u001b[0m\u001b[0m\n\u001b[0m\u001b[1;32m   4118\u001b[0m         )\n\u001b[1;32m   4119\u001b[0m \u001b[0;34m\u001b[0m\u001b[0m\n",
      "\u001b[0;32m/Library/Frameworks/Python.framework/Versions/3.7/lib/python3.7/site-packages/pandas/core/generic.py\u001b[0m in \u001b[0;36mdrop\u001b[0;34m(self, labels, axis, index, columns, level, inplace, errors)\u001b[0m\n\u001b[1;32m   3912\u001b[0m         \u001b[0;32mfor\u001b[0m \u001b[0maxis\u001b[0m\u001b[0;34m,\u001b[0m \u001b[0mlabels\u001b[0m \u001b[0;32min\u001b[0m \u001b[0maxes\u001b[0m\u001b[0;34m.\u001b[0m\u001b[0mitems\u001b[0m\u001b[0;34m(\u001b[0m\u001b[0;34m)\u001b[0m\u001b[0;34m:\u001b[0m\u001b[0;34m\u001b[0m\u001b[0;34m\u001b[0m\u001b[0m\n\u001b[1;32m   3913\u001b[0m             \u001b[0;32mif\u001b[0m \u001b[0mlabels\u001b[0m \u001b[0;32mis\u001b[0m \u001b[0;32mnot\u001b[0m \u001b[0;32mNone\u001b[0m\u001b[0;34m:\u001b[0m\u001b[0;34m\u001b[0m\u001b[0;34m\u001b[0m\u001b[0m\n\u001b[0;32m-> 3914\u001b[0;31m                 \u001b[0mobj\u001b[0m \u001b[0;34m=\u001b[0m \u001b[0mobj\u001b[0m\u001b[0;34m.\u001b[0m\u001b[0m_drop_axis\u001b[0m\u001b[0;34m(\u001b[0m\u001b[0mlabels\u001b[0m\u001b[0;34m,\u001b[0m \u001b[0maxis\u001b[0m\u001b[0;34m,\u001b[0m \u001b[0mlevel\u001b[0m\u001b[0;34m=\u001b[0m\u001b[0mlevel\u001b[0m\u001b[0;34m,\u001b[0m \u001b[0merrors\u001b[0m\u001b[0;34m=\u001b[0m\u001b[0merrors\u001b[0m\u001b[0;34m)\u001b[0m\u001b[0;34m\u001b[0m\u001b[0;34m\u001b[0m\u001b[0m\n\u001b[0m\u001b[1;32m   3915\u001b[0m \u001b[0;34m\u001b[0m\u001b[0m\n\u001b[1;32m   3916\u001b[0m         \u001b[0;32mif\u001b[0m \u001b[0minplace\u001b[0m\u001b[0;34m:\u001b[0m\u001b[0;34m\u001b[0m\u001b[0;34m\u001b[0m\u001b[0m\n",
      "\u001b[0;32m/Library/Frameworks/Python.framework/Versions/3.7/lib/python3.7/site-packages/pandas/core/generic.py\u001b[0m in \u001b[0;36m_drop_axis\u001b[0;34m(self, labels, axis, level, errors)\u001b[0m\n\u001b[1;32m   3944\u001b[0m                 \u001b[0mnew_axis\u001b[0m \u001b[0;34m=\u001b[0m \u001b[0maxis\u001b[0m\u001b[0;34m.\u001b[0m\u001b[0mdrop\u001b[0m\u001b[0;34m(\u001b[0m\u001b[0mlabels\u001b[0m\u001b[0;34m,\u001b[0m \u001b[0mlevel\u001b[0m\u001b[0;34m=\u001b[0m\u001b[0mlevel\u001b[0m\u001b[0;34m,\u001b[0m \u001b[0merrors\u001b[0m\u001b[0;34m=\u001b[0m\u001b[0merrors\u001b[0m\u001b[0;34m)\u001b[0m\u001b[0;34m\u001b[0m\u001b[0;34m\u001b[0m\u001b[0m\n\u001b[1;32m   3945\u001b[0m             \u001b[0;32melse\u001b[0m\u001b[0;34m:\u001b[0m\u001b[0;34m\u001b[0m\u001b[0;34m\u001b[0m\u001b[0m\n\u001b[0;32m-> 3946\u001b[0;31m                 \u001b[0mnew_axis\u001b[0m \u001b[0;34m=\u001b[0m \u001b[0maxis\u001b[0m\u001b[0;34m.\u001b[0m\u001b[0mdrop\u001b[0m\u001b[0;34m(\u001b[0m\u001b[0mlabels\u001b[0m\u001b[0;34m,\u001b[0m \u001b[0merrors\u001b[0m\u001b[0;34m=\u001b[0m\u001b[0merrors\u001b[0m\u001b[0;34m)\u001b[0m\u001b[0;34m\u001b[0m\u001b[0;34m\u001b[0m\u001b[0m\n\u001b[0m\u001b[1;32m   3947\u001b[0m             \u001b[0mresult\u001b[0m \u001b[0;34m=\u001b[0m \u001b[0mself\u001b[0m\u001b[0;34m.\u001b[0m\u001b[0mreindex\u001b[0m\u001b[0;34m(\u001b[0m\u001b[0;34m**\u001b[0m\u001b[0;34m{\u001b[0m\u001b[0maxis_name\u001b[0m\u001b[0;34m:\u001b[0m \u001b[0mnew_axis\u001b[0m\u001b[0;34m}\u001b[0m\u001b[0;34m)\u001b[0m\u001b[0;34m\u001b[0m\u001b[0;34m\u001b[0m\u001b[0m\n\u001b[1;32m   3948\u001b[0m \u001b[0;34m\u001b[0m\u001b[0m\n",
      "\u001b[0;32m/Library/Frameworks/Python.framework/Versions/3.7/lib/python3.7/site-packages/pandas/core/indexes/base.py\u001b[0m in \u001b[0;36mdrop\u001b[0;34m(self, labels, errors)\u001b[0m\n\u001b[1;32m   5338\u001b[0m         \u001b[0;32mif\u001b[0m \u001b[0mmask\u001b[0m\u001b[0;34m.\u001b[0m\u001b[0many\u001b[0m\u001b[0;34m(\u001b[0m\u001b[0;34m)\u001b[0m\u001b[0;34m:\u001b[0m\u001b[0;34m\u001b[0m\u001b[0;34m\u001b[0m\u001b[0m\n\u001b[1;32m   5339\u001b[0m             \u001b[0;32mif\u001b[0m \u001b[0merrors\u001b[0m \u001b[0;34m!=\u001b[0m \u001b[0;34m\"ignore\"\u001b[0m\u001b[0;34m:\u001b[0m\u001b[0;34m\u001b[0m\u001b[0;34m\u001b[0m\u001b[0m\n\u001b[0;32m-> 5340\u001b[0;31m                 \u001b[0;32mraise\u001b[0m \u001b[0mKeyError\u001b[0m\u001b[0;34m(\u001b[0m\u001b[0;34m\"{} not found in axis\"\u001b[0m\u001b[0;34m.\u001b[0m\u001b[0mformat\u001b[0m\u001b[0;34m(\u001b[0m\u001b[0mlabels\u001b[0m\u001b[0;34m[\u001b[0m\u001b[0mmask\u001b[0m\u001b[0;34m]\u001b[0m\u001b[0;34m)\u001b[0m\u001b[0;34m)\u001b[0m\u001b[0;34m\u001b[0m\u001b[0;34m\u001b[0m\u001b[0m\n\u001b[0m\u001b[1;32m   5341\u001b[0m             \u001b[0mindexer\u001b[0m \u001b[0;34m=\u001b[0m \u001b[0mindexer\u001b[0m\u001b[0;34m[\u001b[0m\u001b[0;34m~\u001b[0m\u001b[0mmask\u001b[0m\u001b[0;34m]\u001b[0m\u001b[0;34m\u001b[0m\u001b[0;34m\u001b[0m\u001b[0m\n\u001b[1;32m   5342\u001b[0m         \u001b[0;32mreturn\u001b[0m \u001b[0mself\u001b[0m\u001b[0;34m.\u001b[0m\u001b[0mdelete\u001b[0m\u001b[0;34m(\u001b[0m\u001b[0mindexer\u001b[0m\u001b[0;34m)\u001b[0m\u001b[0;34m\u001b[0m\u001b[0;34m\u001b[0m\u001b[0m\n",
      "\u001b[0;31mKeyError\u001b[0m: \"['RIAGENDR'] not found in axis\""
     ]
    }
   ],
   "source": [
    "ocq.drop('RIAGENDR', 1, inplace=True)"
   ]
  },
  {
   "cell_type": "code",
   "execution_count": 118,
   "metadata": {},
   "outputs": [
    {
     "data": {
      "text/plain": "{'SEQN'}"
     },
     "execution_count": 118,
     "metadata": {},
     "output_type": "execute_result"
    }
   ],
   "source": [
    "set(demo.columns).intersection(ocq.columns)"
   ]
  },
  {
   "cell_type": "code",
   "execution_count": 121,
   "metadata": {},
   "outputs": [
    {
     "name": "stdout",
     "output_type": "stream",
     "text": "Duplicated rows: 0\n"
    }
   ],
   "source": [
    "io = ocq['SEQN'].duplicated(keep=False)\n",
    "print(f'Duplicated rows: {len(ocq.loc[io, :])}')"
   ]
  },
  {
   "cell_type": "code",
   "execution_count": 123,
   "metadata": {},
   "outputs": [],
   "source": [
    "dataset = pd.merge(dataset, ocq, on='SEQN', how='inner')"
   ]
  },
  {
   "cell_type": "code",
   "execution_count": 124,
   "metadata": {},
   "outputs": [],
   "source": [
    "ocq.to_csv('Occupation.csv', index=False)\n",
    "dataset.to_csv('MyDataset.csv', index=False)"
   ]
  },
  {
   "cell_type": "code",
   "execution_count": null,
   "metadata": {},
   "outputs": [],
   "source": []
  }
 ]
}